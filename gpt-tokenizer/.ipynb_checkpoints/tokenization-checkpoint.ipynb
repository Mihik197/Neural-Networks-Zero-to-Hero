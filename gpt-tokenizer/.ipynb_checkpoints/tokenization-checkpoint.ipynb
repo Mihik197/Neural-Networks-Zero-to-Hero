{
 "cells": [
  {
   "cell_type": "code",
   "execution_count": 1,
   "metadata": {},
   "outputs": [
    {
     "data": {
      "text/plain": [
       "'안녕하세요 👋 (hello in Korean!)'"
      ]
     },
     "execution_count": 1,
     "metadata": {},
     "output_type": "execute_result"
    }
   ],
   "source": [
    "\"안녕하세요 👋 (hello in Korean!)\""
   ]
  },
  {
   "cell_type": "code",
   "execution_count": 2,
   "metadata": {},
   "outputs": [
    {
     "data": {
      "text/plain": [
       "(65, 128075, 2325, 50836)"
      ]
     },
     "execution_count": 2,
     "metadata": {},
     "output_type": "execute_result"
    }
   ],
   "source": [
    "# ord() used to access unicode code point\n",
    "ord(\"A\"), ord(\"👋\"), ord(\"क\"), ord(\"요\")"
   ]
  },
  {
   "cell_type": "code",
   "execution_count": 3,
   "metadata": {},
   "outputs": [
    {
     "data": {
      "text/plain": [
       "[50504,\n",
       " 45397,\n",
       " 54616,\n",
       " 49464,\n",
       " 50836,\n",
       " 32,\n",
       " 128075,\n",
       " 32,\n",
       " 40,\n",
       " 104,\n",
       " 101,\n",
       " 108,\n",
       " 108,\n",
       " 111,\n",
       " 32,\n",
       " 105,\n",
       " 110,\n",
       " 32,\n",
       " 75,\n",
       " 111,\n",
       " 114,\n",
       " 101,\n",
       " 97,\n",
       " 110,\n",
       " 33,\n",
       " 41]"
      ]
     },
     "execution_count": 3,
     "metadata": {},
     "output_type": "execute_result"
    }
   ],
   "source": [
    "[ord(x) for x in \"안녕하세요 👋 (hello in Korean!)\"]"
   ]
  },
  {
   "cell_type": "code",
   "execution_count": 4,
   "metadata": {},
   "outputs": [
    {
     "data": {
      "text/plain": [
       "b'\\xec\\x95\\x88\\xeb\\x85\\x95\\xed\\x95\\x98\\xec\\x84\\xb8\\xec\\x9a\\x94 \\xf0\\x9f\\x91\\x8b (hello in Korean!)'"
      ]
     },
     "execution_count": 4,
     "metadata": {},
     "output_type": "execute_result"
    }
   ],
   "source": [
    "# string class in python has .encode() method\n",
    "\"안녕하세요 👋 (hello in Korean!)\".encode(\"utf-8\")\n",
    "# this is the bytes object in python\n",
    "# each sequence of \\xNN represents a byte"
   ]
  },
  {
   "cell_type": "code",
   "execution_count": 5,
   "metadata": {},
   "outputs": [
    {
     "data": {
      "text/plain": [
       "[236,\n",
       " 149,\n",
       " 136,\n",
       " 235,\n",
       " 133,\n",
       " 149,\n",
       " 237,\n",
       " 149,\n",
       " 152,\n",
       " 236,\n",
       " 132,\n",
       " 184,\n",
       " 236,\n",
       " 154,\n",
       " 148,\n",
       " 32,\n",
       " 240,\n",
       " 159,\n",
       " 145,\n",
       " 139,\n",
       " 32,\n",
       " 40,\n",
       " 104,\n",
       " 101,\n",
       " 108,\n",
       " 108,\n",
       " 111,\n",
       " 32,\n",
       " 105,\n",
       " 110,\n",
       " 32,\n",
       " 75,\n",
       " 111,\n",
       " 114,\n",
       " 101,\n",
       " 97,\n",
       " 110,\n",
       " 33,\n",
       " 41]"
      ]
     },
     "execution_count": 5,
     "metadata": {},
     "output_type": "execute_result"
    }
   ],
   "source": [
    "# to get the raw bytes\n",
    "list(\"안녕하세요 👋 (hello in Korean!)\".encode(\"utf-8\"))"
   ]
  },
  {
   "cell_type": "code",
   "execution_count": 6,
   "metadata": {},
   "outputs": [
    {
     "name": "stdout",
     "output_type": "stream",
     "text": [
      "-----\n",
      "Ｕｎｉｃｏｄｅ! 🅤🅝🅘🅒🅞🅓🅔‽ 🇺‌🇳‌🇮‌🇨‌🇴‌🇩‌🇪! 😄 The very name strikes fear and awe into the hearts of programmers worldwide. We all know we ought to “support Unicode” in our software (whatever that means—like using wchar_t for all the strings, right?). But Unicode can be abstruse, and diving into the thousand-page Unicode Standard plus its dozens of supplementary annexes, reports, and notes can be more than a little intimidating. I don’t blame programmers for still finding the whole thing mysterious, even 30 years after Unicode’s inception.\n",
      "length: 533\n",
      "-----\n",
      "[239, 188, 181, 239, 189, 142, 239, 189, 137, 239, 189, 131, 239, 189, 143, 239, 189, 132, 239, 189, 133, 33, 32, 240, 159, 133, 164, 240, 159, 133, 157, 240, 159, 133, 152, 240, 159, 133, 146, 240, 159, 133, 158, 240, 159, 133, 147, 240, 159, 133, 148, 226, 128, 189, 32, 240, 159, 135, 186, 226, 128, 140, 240, 159, 135, 179, 226, 128, 140, 240, 159, 135, 174, 226, 128, 140, 240, 159, 135, 168, 226, 128, 140, 240, 159, 135, 180, 226, 128, 140, 240, 159, 135, 169, 226, 128, 140, 240, 159, 135, 170, 33, 32, 240, 159, 152, 132, 32, 84, 104, 101, 32, 118, 101, 114, 121, 32, 110, 97, 109, 101, 32, 115, 116, 114, 105, 107, 101, 115, 32, 102, 101, 97, 114, 32, 97, 110, 100, 32, 97, 119, 101, 32, 105, 110, 116, 111, 32, 116, 104, 101, 32, 104, 101, 97, 114, 116, 115, 32, 111, 102, 32, 112, 114, 111, 103, 114, 97, 109, 109, 101, 114, 115, 32, 119, 111, 114, 108, 100, 119, 105, 100, 101, 46, 32, 87, 101, 32, 97, 108, 108, 32, 107, 110, 111, 119, 32, 119, 101, 32, 111, 117, 103, 104, 116, 32, 116, 111, 32, 226, 128, 156, 115, 117, 112, 112, 111, 114, 116, 32, 85, 110, 105, 99, 111, 100, 101, 226, 128, 157, 32, 105, 110, 32, 111, 117, 114, 32, 115, 111, 102, 116, 119, 97, 114, 101, 32, 40, 119, 104, 97, 116, 101, 118, 101, 114, 32, 116, 104, 97, 116, 32, 109, 101, 97, 110, 115, 226, 128, 148, 108, 105, 107, 101, 32, 117, 115, 105, 110, 103, 32, 119, 99, 104, 97, 114, 95, 116, 32, 102, 111, 114, 32, 97, 108, 108, 32, 116, 104, 101, 32, 115, 116, 114, 105, 110, 103, 115, 44, 32, 114, 105, 103, 104, 116, 63, 41, 46, 32, 66, 117, 116, 32, 85, 110, 105, 99, 111, 100, 101, 32, 99, 97, 110, 32, 98, 101, 32, 97, 98, 115, 116, 114, 117, 115, 101, 44, 32, 97, 110, 100, 32, 100, 105, 118, 105, 110, 103, 32, 105, 110, 116, 111, 32, 116, 104, 101, 32, 116, 104, 111, 117, 115, 97, 110, 100, 45, 112, 97, 103, 101, 32, 85, 110, 105, 99, 111, 100, 101, 32, 83, 116, 97, 110, 100, 97, 114, 100, 32, 112, 108, 117, 115, 32, 105, 116, 115, 32, 100, 111, 122, 101, 110, 115, 32, 111, 102, 32, 115, 117, 112, 112, 108, 101, 109, 101, 110, 116, 97, 114, 121, 32, 97, 110, 110, 101, 120, 101, 115, 44, 32, 114, 101, 112, 111, 114, 116, 115, 44, 32, 97, 110, 100, 32, 110, 111, 116, 101, 115, 32, 99, 97, 110, 32, 98, 101, 32, 109, 111, 114, 101, 32, 116, 104, 97, 110, 32, 97, 32, 108, 105, 116, 116, 108, 101, 32, 105, 110, 116, 105, 109, 105, 100, 97, 116, 105, 110, 103, 46, 32, 73, 32, 100, 111, 110, 226, 128, 153, 116, 32, 98, 108, 97, 109, 101, 32, 112, 114, 111, 103, 114, 97, 109, 109, 101, 114, 115, 32, 102, 111, 114, 32, 115, 116, 105, 108, 108, 32, 102, 105, 110, 100, 105, 110, 103, 32, 116, 104, 101, 32, 119, 104, 111, 108, 101, 32, 116, 104, 105, 110, 103, 32, 109, 121, 115, 116, 101, 114, 105, 111, 117, 115, 44, 32, 101, 118, 101, 110, 32, 51, 48, 32, 121, 101, 97, 114, 115, 32, 97, 102, 116, 101, 114, 32, 85, 110, 105, 99, 111, 100, 101, 226, 128, 153, 115, 32, 105, 110, 99, 101, 112, 116, 105, 111, 110, 46]\n",
      "length: 616\n"
     ]
    }
   ],
   "source": [
    "# https://en.wikipedia.org/wiki/Byte_pair_encoding\n",
    "# Byte Pair Encoding\n",
    "\n",
    "text = \"Ｕｎｉｃｏｄｅ! 🅤🅝🅘🅒🅞🅓🅔‽ 🇺‌🇳‌🇮‌🇨‌🇴‌🇩‌🇪! 😄 The very name strikes fear and awe into the hearts of programmers worldwide. We all know we ought to “support Unicode” in our software (whatever that means—like using wchar_t for all the strings, right?). But Unicode can be abstruse, and diving into the thousand-page Unicode Standard plus its dozens of supplementary annexes, reports, and notes can be more than a little intimidating. I don’t blame programmers for still finding the whole thing mysterious, even 30 years after Unicode’s inception.\"\n",
    "tokens = text.encode(\"utf-8\")  # raw bytes\n",
    "tokens = list(map(int, tokens))  # converts to a list of integers between 0 and 255\n",
    "print('-----')\n",
    "print(text)\n",
    "print(\"length:\", len(text))\n",
    "print('-----')\n",
    "print(tokens)\n",
    "print(\"length:\", len(tokens))"
   ]
  },
  {
   "cell_type": "code",
   "execution_count": 7,
   "metadata": {},
   "outputs": [
    {
     "data": {
      "text/plain": [
       "('e', ' ')"
      ]
     },
     "execution_count": 7,
     "metadata": {},
     "output_type": "execute_result"
    }
   ],
   "source": [
    "# chr() is the opposite of ord()\n",
    "chr(101), chr(32)\n",
    "\n",
    "# so \"e \" is the most commonly occuring pair"
   ]
  },
  {
   "cell_type": "code",
   "execution_count": 8,
   "metadata": {},
   "outputs": [
    {
     "name": "stdout",
     "output_type": "stream",
     "text": [
      "[(20, (101, 32)), (15, (240, 159)), (12, (226, 128)), (12, (105, 110)), (10, (115, 32)), (10, (97, 110)), (10, (32, 97)), (9, (32, 116)), (8, (116, 104)), (7, (159, 135)), (7, (159, 133)), (7, (97, 114)), (6, (239, 189)), (6, (140, 240)), (6, (128, 140)), (6, (116, 32)), (6, (114, 32)), (6, (111, 114)), (6, (110, 103)), (6, (110, 100)), (6, (109, 101)), (6, (104, 101)), (6, (101, 114)), (6, (32, 105)), (5, (117, 115)), (5, (115, 116)), (5, (110, 32)), (5, (100, 101)), (5, (44, 32)), (5, (32, 115)), (4, (116, 105)), (4, (116, 101)), (4, (115, 44)), (4, (114, 105)), (4, (111, 117)), (4, (111, 100)), (4, (110, 116)), (4, (110, 105)), (4, (105, 99)), (4, (104, 97)), (4, (103, 32)), (4, (101, 97)), (4, (100, 32)), (4, (99, 111)), (4, (97, 109)), (4, (85, 110)), (4, (32, 119)), (4, (32, 111)), (4, (32, 102)), (4, (32, 85)), (3, (118, 101)), (3, (116, 115)), (3, (116, 114)), (3, (116, 111)), (3, (114, 116)), (3, (114, 115)), (3, (114, 101)), (3, (111, 102)), (3, (111, 32)), (3, (108, 108)), (3, (108, 101)), (3, (108, 32)), (3, (101, 115)), (3, (101, 110)), (3, (97, 116)), (3, (46, 32)), (3, (32, 240)), (3, (32, 112)), (3, (32, 109)), (3, (32, 100)), (3, (32, 98)), (2, (128, 153)), (2, (121, 32)), (2, (119, 104)), (2, (119, 101)), (2, (117, 112)), (2, (116, 97)), (2, (115, 117)), (2, (114, 121)), (2, (114, 111)), (2, (114, 97)), (2, (112, 114)), (2, (112, 112)), (2, (112, 111)), (2, (112, 108)), (2, (111, 110)), (2, (111, 103)), (2, (110, 115)), (2, (110, 111)), (2, (109, 109)), (2, (108, 105)), (2, (107, 101)), (2, (105, 116)), (2, (105, 111)), (2, (105, 107)), (2, (105, 100)), (2, (104, 116)), (2, (104, 111)), (2, (103, 114)), (2, (103, 104)), (2, (102, 116)), (2, (102, 111)), (2, (102, 32)), (2, (101, 226)), (2, (101, 118)), (2, (101, 112)), (2, (100, 111)), (2, (100, 105)), (2, (100, 97)), (2, (99, 97)), (2, (98, 101)), (2, (97, 108)), (2, (33, 32)), (2, (32, 114)), (2, (32, 110)), (2, (32, 99)), (1, (239, 188)), (1, (189, 143)), (1, (189, 142)), (1, (189, 137)), (1, (189, 133)), (1, (189, 132)), (1, (189, 131)), (1, (189, 32)), (1, (188, 181)), (1, (186, 226)), (1, (181, 239)), (1, (180, 226)), (1, (179, 226)), (1, (174, 226)), (1, (170, 33)), (1, (169, 226)), (1, (168, 226)), (1, (164, 240)), (1, (159, 152)), (1, (158, 240)), (1, (157, 240)), (1, (157, 32)), (1, (156, 115)), (1, (153, 116)), (1, (153, 115)), (1, (152, 240)), (1, (152, 132)), (1, (148, 226)), (1, (148, 108)), (1, (147, 240)), (1, (146, 240)), (1, (143, 239)), (1, (142, 239)), (1, (137, 239)), (1, (135, 186)), (1, (135, 180)), (1, (135, 179)), (1, (135, 174)), (1, (135, 170)), (1, (135, 169)), (1, (135, 168)), (1, (133, 164)), (1, (133, 158)), (1, (133, 157)), (1, (133, 152)), (1, (133, 148)), (1, (133, 147)), (1, (133, 146)), (1, (133, 33)), (1, (132, 239)), (1, (132, 32)), (1, (131, 239)), (1, (128, 189)), (1, (128, 157)), (1, (128, 156)), (1, (128, 148)), (1, (122, 101)), (1, (121, 115)), (1, (121, 101)), (1, (120, 101)), (1, (119, 111)), (1, (119, 105)), (1, (119, 99)), (1, (119, 97)), (1, (119, 32)), (1, (118, 105)), (1, (117, 116)), (1, (117, 114)), (1, (117, 103)), (1, (116, 119)), (1, (116, 116)), (1, (116, 108)), (1, (116, 63)), (1, (115, 226)), (1, (115, 111)), (1, (115, 105)), (1, (115, 101)), (1, (115, 97)), (1, (114, 117)), (1, (114, 108)), (1, (114, 100)), (1, (114, 95)), (1, (112, 116)), (1, (112, 97)), (1, (111, 122)), (1, (111, 119)), (1, (111, 116)), (1, (111, 108)), (1, (110, 226)), (1, (110, 110)), (1, (110, 101)), (1, (110, 99)), (1, (110, 97)), (1, (110, 46)), (1, (109, 121)), (1, (109, 111)), (1, (109, 105)), (1, (108, 117)), (1, (108, 100)), (1, (108, 97)), (1, (107, 110)), (1, (105, 118)), (1, (105, 109)), (1, (105, 108)), (1, (105, 103)), (1, (104, 105)), (1, (103, 115)), (1, (103, 101)), (1, (103, 46)), (1, (102, 105)), (1, (102, 101)), (1, (101, 120)), (1, (101, 109)), (1, (101, 46)), (1, (101, 44)), (1, (100, 119)), (1, (100, 45)), (1, (99, 104)), (1, (99, 101)), (1, (98, 115)), (1, (98, 108)), (1, (97, 119)), (1, (97, 103)), (1, (97, 102)), (1, (97, 98)), (1, (97, 32)), (1, (95, 116)), (1, (87, 101)), (1, (84, 104)), (1, (83, 116)), (1, (73, 32)), (1, (66, 117)), (1, (63, 41)), (1, (51, 48)), (1, (48, 32)), (1, (45, 112)), (1, (41, 46)), (1, (40, 119)), (1, (32, 226)), (1, (32, 121)), (1, (32, 118)), (1, (32, 117)), (1, (32, 108)), (1, (32, 107)), (1, (32, 104)), (1, (32, 101)), (1, (32, 87)), (1, (32, 84)), (1, (32, 83)), (1, (32, 73)), (1, (32, 66)), (1, (32, 51)), (1, (32, 40))]\n"
     ]
    }
   ],
   "source": [
    "def get_stats(ids):\n",
    "    counts = {}\n",
    "    for pair in zip(ids, ids[1:]):  # to iterate over consecutive elements\n",
    "        counts[pair] = counts.get(pair, 0) + 1\n",
    "    return counts\n",
    "\n",
    "# counts.get(pair, 0) --> fetch value associated with the key 'pair'. if not already in dict, then return 0\n",
    "\n",
    "stats = get_stats(tokens)\n",
    "# print(stats)\n",
    "print(sorted(((v, k) for k, v in stats.items()), reverse=True))  \n",
    "# ex: turns {(239, 188): 1} to [(1, (239, 188))], \n",
    "# and it sorts by the first sub element, so in this case by v in (v, k), so we reverse it to show the most frequently used pairs first"
   ]
  },
  {
   "cell_type": "code",
   "execution_count": 9,
   "metadata": {},
   "outputs": [
    {
     "data": {
      "text/plain": [
       "(101, 32)"
      ]
     },
     "execution_count": 9,
     "metadata": {},
     "output_type": "execute_result"
    }
   ],
   "source": [
    "top_pair = max(stats, key=stats.get)  # keys is the parameter on which it ranks stats\n",
    "top_pair"
   ]
  },
  {
   "cell_type": "code",
   "execution_count": 10,
   "metadata": {},
   "outputs": [
    {
     "name": "stdout",
     "output_type": "stream",
     "text": [
      "[5, 6, 99, 9, 1, 2, 3, 2, 4, 5, 99]\n",
      "[239, 188, 181, 239, 189, 142, 239, 189, 137, 239, 189, 131, 239, 189, 143, 239, 189, 132, 239, 189, 133, 33, 32, 240, 159, 133, 164, 240, 159, 133, 157, 240, 159, 133, 152, 240, 159, 133, 146, 240, 159, 133, 158, 240, 159, 133, 147, 240, 159, 133, 148, 226, 128, 189, 32, 240, 159, 135, 186, 226, 128, 140, 240, 159, 135, 179, 226, 128, 140, 240, 159, 135, 174, 226, 128, 140, 240, 159, 135, 168, 226, 128, 140, 240, 159, 135, 180, 226, 128, 140, 240, 159, 135, 169, 226, 128, 140, 240, 159, 135, 170, 33, 32, 240, 159, 152, 132, 32, 84, 104, 256, 118, 101, 114, 121, 32, 110, 97, 109, 256, 115, 116, 114, 105, 107, 101, 115, 32, 102, 101, 97, 114, 32, 97, 110, 100, 32, 97, 119, 256, 105, 110, 116, 111, 32, 116, 104, 256, 104, 101, 97, 114, 116, 115, 32, 111, 102, 32, 112, 114, 111, 103, 114, 97, 109, 109, 101, 114, 115, 32, 119, 111, 114, 108, 100, 119, 105, 100, 101, 46, 32, 87, 256, 97, 108, 108, 32, 107, 110, 111, 119, 32, 119, 256, 111, 117, 103, 104, 116, 32, 116, 111, 32, 226, 128, 156, 115, 117, 112, 112, 111, 114, 116, 32, 85, 110, 105, 99, 111, 100, 101, 226, 128, 157, 32, 105, 110, 32, 111, 117, 114, 32, 115, 111, 102, 116, 119, 97, 114, 256, 40, 119, 104, 97, 116, 101, 118, 101, 114, 32, 116, 104, 97, 116, 32, 109, 101, 97, 110, 115, 226, 128, 148, 108, 105, 107, 256, 117, 115, 105, 110, 103, 32, 119, 99, 104, 97, 114, 95, 116, 32, 102, 111, 114, 32, 97, 108, 108, 32, 116, 104, 256, 115, 116, 114, 105, 110, 103, 115, 44, 32, 114, 105, 103, 104, 116, 63, 41, 46, 32, 66, 117, 116, 32, 85, 110, 105, 99, 111, 100, 256, 99, 97, 110, 32, 98, 256, 97, 98, 115, 116, 114, 117, 115, 101, 44, 32, 97, 110, 100, 32, 100, 105, 118, 105, 110, 103, 32, 105, 110, 116, 111, 32, 116, 104, 256, 116, 104, 111, 117, 115, 97, 110, 100, 45, 112, 97, 103, 256, 85, 110, 105, 99, 111, 100, 256, 83, 116, 97, 110, 100, 97, 114, 100, 32, 112, 108, 117, 115, 32, 105, 116, 115, 32, 100, 111, 122, 101, 110, 115, 32, 111, 102, 32, 115, 117, 112, 112, 108, 101, 109, 101, 110, 116, 97, 114, 121, 32, 97, 110, 110, 101, 120, 101, 115, 44, 32, 114, 101, 112, 111, 114, 116, 115, 44, 32, 97, 110, 100, 32, 110, 111, 116, 101, 115, 32, 99, 97, 110, 32, 98, 256, 109, 111, 114, 256, 116, 104, 97, 110, 32, 97, 32, 108, 105, 116, 116, 108, 256, 105, 110, 116, 105, 109, 105, 100, 97, 116, 105, 110, 103, 46, 32, 73, 32, 100, 111, 110, 226, 128, 153, 116, 32, 98, 108, 97, 109, 256, 112, 114, 111, 103, 114, 97, 109, 109, 101, 114, 115, 32, 102, 111, 114, 32, 115, 116, 105, 108, 108, 32, 102, 105, 110, 100, 105, 110, 103, 32, 116, 104, 256, 119, 104, 111, 108, 256, 116, 104, 105, 110, 103, 32, 109, 121, 115, 116, 101, 114, 105, 111, 117, 115, 44, 32, 101, 118, 101, 110, 32, 51, 48, 32, 121, 101, 97, 114, 115, 32, 97, 102, 116, 101, 114, 32, 85, 110, 105, 99, 111, 100, 101, 226, 128, 153, 115, 32, 105, 110, 99, 101, 112, 116, 105, 111, 110, 46]\n",
      "length: 596\n"
     ]
    }
   ],
   "source": [
    "def merge(ids, pair, idx):\n",
    "    # in the list of ints (ids), replace all consecutive occurences of pair with a new token idx\n",
    "    newids = []\n",
    "    i = 0\n",
    "    while i < len(ids):\n",
    "        # if we are not at the very last position and the pair matches, replace it\n",
    "        if i < len(ids) - 1 and ids[i] == pair[0] and ids[i+1] == pair[1]:\n",
    "            newids.append(idx)  # we add this new token to our list\n",
    "            i += 2\n",
    "        else:\n",
    "            newids.append(ids[i])  # we just copy over that element\n",
    "            i += 1\n",
    "    return newids\n",
    "\n",
    "print(merge([5, 6, 6, 7, 9, 1, 2, 3, 2, 4, 5, 6, 7], (6, 7), 99))\n",
    "\n",
    "tokens2 = merge(tokens, top_pair, 256)\n",
    "print(tokens2)\n",
    "print(\"length:\", len(tokens2))"
   ]
  },
  {
   "cell_type": "code",
   "execution_count": 11,
   "metadata": {},
   "outputs": [],
   "source": [
    "# making the training text longer\n",
    "# text taken from this link: https://www.reedbeta.com/blog/programmers-intro-to-unicode/\n",
    "text = \"\"\"A Programmer’s Introduction to Unicode March 3, 2017 · Coding · 25 Comments Ｕｎｉｃｏｄｅ! 🅤🅝🅘🅒🅞🅓🅔‽ 🇺‌🇳‌🇮‌🇨‌🇴‌🇩‌🇪! 😄 The very name strikes fear and awe into the hearts of programmers worldwide. We all know we ought to “support Unicode” in our software (whatever that means—like using wchar_t for all the strings, right?). But Unicode can be abstruse, and diving into the thousand-page Unicode Standard plus its dozens of supplementary annexes, reports, and notes can be more than a little intimidating. I don’t blame programmers for still finding the whole thing mysterious, even 30 years after Unicode’s inception. A few months ago, I got interested in Unicode and decided to spend some time learning more about it in detail. In this article, I’ll give an introduction to it from a programmer’s point of view. I’m going to focus on the character set and what’s involved in working with strings and files of Unicode text. However, in this article I’m not going to talk about fonts, text layout/shaping/rendering, or localization in detail—those are separate issues, beyond my scope (and knowledge) here. Diversity and Inherent Complexity The Unicode Codespace Codespace Allocation Scripts Usage Frequency Encodings UTF-8 UTF-16 Combining Marks Canonical Equivalence Normalization Forms Grapheme Clusters And More… Diversity and Inherent Complexity As soon as you start to study Unicode, it becomes clear that it represents a large jump in complexity over character sets like ASCII that you may be more familiar with. It’s not just that Unicode contains a much larger number of characters, although that’s part of it. Unicode also has a great deal of internal structure, features, and special cases, making it much more than what one might expect a mere “character set” to be. We’ll see some of that later in this article. When confronting all this complexity, especially as an engineer, it’s hard not to find oneself asking, “Why do we need all this? Is this really necessary? Couldn’t it be simplified?” However, Unicode aims to faithfully represent the entire world’s writing systems. The Unicode Consortium’s stated goal is “enabling people around the world to use computers in any language”. And as you might imagine, the diversity of written languages is immense! To date, Unicode supports 135 different scripts, covering some 1100 languages, and there’s still a long tail of over 100 unsupported scripts, both modern and historical, which people are still working to add. Given this enormous diversity, it’s inevitable that representing it is a complicated project. Unicode embraces that diversity, and accepts the complexity inherent in its mission to include all human writing systems. It doesn’t make a lot of trade-offs in the name of simplification, and it makes exceptions to its own rules where necessary to further its mission. Moreover, Unicode is committed not just to supporting texts in any single language, but also to letting multiple languages coexist within one text—which introduces even more complexity. Most programming languages have libraries available to handle the gory low-level details of text manipulation, but as a programmer, you’ll still need to know about certain Unicode features in order to know when and how to apply them. It may take some time to wrap your head around it all, but don’t be discouraged—think about the billions of people for whom your software will be more accessible through supporting text in their language. Embrace the complexity! The Unicode Codespace Let’s start with some general orientation. The basic elements of Unicode—its “characters”, although that term isn’t quite right—are called code points. Code points are identified by number, customarily written in hexadecimal with the prefix “U+”, such as U+0041 “A” latin capital letter a or U+03B8 “θ” greek small letter theta. Each code point also has a short name, and quite a few other properties, specified in the Unicode Character Database. The set of all possible code points is called the codespace. The Unicode codespace consists of 1,114,112 code points. However, only 128,237 of them—about 12% of the codespace—are actually assigned, to date. There’s plenty of room for growth! Unicode also reserves an additional 137,468 code points as “private use” areas, which have no standardized meaning and are available for individual applications to define for their own purposes. Codespace Allocation To get a feel for how the codespace is laid out, it’s helpful to visualize it. Below is a map of the entire codespace, with one pixel per code point. It’s arranged in tiles for visual coherence; each small square is 16×16 = 256 code points, and each large square is a “plane” of 65,536 code points. There are 17 planes altogether. Map of the Unicode codespace (click to zoom) White represents unassigned space. Blue is assigned code points, green is private-use areas, and the small red area is surrogates (more about those later). As you can see, the assigned code points are distributed somewhat sparsely, but concentrated in the first three planes. Plane 0 is also known as the “Basic Multilingual Plane”, or BMP. The BMP contains essentially all the characters needed for modern text in any script, including Latin, Cyrillic, Greek, Han (Chinese), Japanese, Korean, Arabic, Hebrew, Devanagari (Indian), and many more. (In the past, the codespace was just the BMP and no more—Unicode was originally conceived as a straightforward 16-bit encoding, with only 65,536 code points. It was expanded to its current size in 1996. However, the vast majority of code points in modern text belong to the BMP.) Plane 1 contains historical scripts, such as Sumerian cuneiform and Egyptian hieroglyphs, as well as emoji and various other symbols. Plane 2 contains a large block of less-common and historical Han characters. The remaining planes are empty, except for a small number of rarely-used formatting characters in Plane 14; planes 15–16 are reserved entirely for private use. Scripts Let’s zoom in on the first three planes, since that’s where the action is: Map of scripts in Unicode planes 0–2 (click to zoom) This map color-codes the 135 different scripts in Unicode. You can see how Han () and Korean () take up most of the range of the BMP (the left large square). By contrast, all of the European, Middle Eastern, and South Asian scripts fit into the first row of the BMP in this diagram. Many areas of the codespace are adapted or copied from earlier encodings. For example, the first 128 code points of Unicode are just a copy of ASCII. This has clear benefits for compatibility—it’s easy to losslessly convert texts from smaller encodings into Unicode (and the other direction too, as long as no characters outside the smaller encoding are used). Usage Frequency One more interesting way to visualize the codespace is to look at the distribution of usage—in other words, how often each code point is actually used in real-world texts. Below is a heat map of planes 0–2 based on a large sample of text from Wikipedia and Twitter (all languages). Frequency increases from black (never seen) through red and yellow to white. Heat map of code point usage frequency in Unicode planes 0–2 (click to zoom) You can see that the vast majority of this text sample lies in the BMP, with only scattered usage of code points from planes 1–2. The biggest exception is emoji, which show up here as the several bright squares in the bottom row of plane 1. Encodings We’ve seen that Unicode code points are abstractly identified by their index in the codespace, ranging from U+0000 to U+10FFFF. But how do code points get represented as bytes, in memory or in a file? The most convenient, computer-friendliest (and programmer-friendliest) thing to do would be to just store the code point index as a 32-bit integer. This works, but it consumes 4 bytes per code point, which is sort of a lot. Using 32-bit ints for Unicode will cost you a bunch of extra storage, memory, and performance in bandwidth-bound scenarios, if you work with a lot of text. Consequently, there are several more-compact encodings for Unicode. The 32-bit integer encoding is officially called UTF-32 (UTF = “Unicode Transformation Format”), but it’s rarely used for storage. At most, it comes up sometimes as a temporary internal representation, for examining or operating on the code points in a string. Much more commonly, you’ll see Unicode text encoded as either UTF-8 or UTF-16. These are both variable-length encodings, made up of 8-bit or 16-bit units, respectively. In these schemes, code points with smaller index values take up fewer bytes, which saves a lot of memory for typical texts. The trade-off is that processing UTF-8/16 texts is more programmatically involved, and likely slower. UTF-8 In UTF-8, each code point is stored using 1 to 4 bytes, based on its index value. UTF-8 uses a system of binary prefixes, in which the high bits of each byte mark whether it’s a single byte, the beginning of a multi-byte sequence, or a continuation byte; the remaining bits, concatenated, give the code point index. This table shows how it works: UTF-8 (binary) Code point (binary) Range 0xxxxxxx xxxxxxx U+0000–U+007F 110xxxxx 10yyyyyy xxxxxyyyyyy U+0080–U+07FF 1110xxxx 10yyyyyy 10zzzzzz xxxxyyyyyyzzzzzz U+0800–U+FFFF 11110xxx 10yyyyyy 10zzzzzz 10wwwwww xxxyyyyyyzzzzzzwwwwww U+10000–U+10FFFF A handy property of UTF-8 is that code points below 128 (ASCII characters) are encoded as single bytes, and all non-ASCII code points are encoded using sequences of bytes 128–255. This has a couple of nice consequences. First, any strings or files out there that are already in ASCII can also be interpreted as UTF-8 without any conversion. Second, lots of widely-used string programming idioms—such as null termination, or delimiters (newlines, tabs, commas, slashes, etc.)—will just work on UTF-8 strings. ASCII bytes never occur inside the encoding of non-ASCII code points, so searching byte-wise for a null terminator or a delimiter will do the right thing. Thanks to this convenience, it’s relatively simple to extend legacy ASCII programs and APIs to handle UTF-8 strings. UTF-8 is very widely used in the Unix/Linux and Web worlds, and many programmers argue UTF-8 should be the default encoding everywhere. However, UTF-8 isn’t a drop-in replacement for ASCII strings in all respects. For instance, code that iterates over the “characters” in a string will need to decode UTF-8 and iterate over code points (or maybe grapheme clusters—more about those later), not bytes. When you measure the “length” of a string, you’ll need to think about whether you want the length in bytes, the length in code points, the width of the text when rendered, or something else. UTF-16 The other encoding that you’re likely to encounter is UTF-16. It uses 16-bit words, with each code point stored as either 1 or 2 words. Like UTF-8, we can express the UTF-16 encoding rules in the form of binary prefixes: UTF-16 (binary) Code point (binary) Range xxxxxxxxxxxxxxxx xxxxxxxxxxxxxxxx U+0000–U+FFFF 110110xxxxxxxxxx 110111yyyyyyyyyy xxxxxxxxxxyyyyyyyyyy + 0x10000 U+10000–U+10FFFF A more common way that people talk about UTF-16 encoding, though, is in terms of code points called “surrogates”. All the code points in the range U+D800–U+DFFF—or in other words, the code points that match the binary prefixes 110110 and 110111 in the table above—are reserved specifically for UTF-16 encoding, and don’t represent any valid characters on their own. They’re only meant to occur in the 2-word encoding pattern above, which is called a “surrogate pair”. Surrogate code points are illegal in any other context! They’re not allowed in UTF-8 or UTF-32 at all. Historically, UTF-16 is a descendant of the original, pre-1996 versions of Unicode, in which there were only 65,536 code points. The original intention was that there would be no different “encodings”; Unicode was supposed to be a straightforward 16-bit character set. Later, the codespace was expanded to make room for a long tail of less-common (but still important) Han characters, which the Unicode designers didn’t originally plan for. Surrogates were then introduced, as—to put it bluntly—a kludge, allowing 16-bit encodings to access the new code points. Today, Javascript uses UTF-16 as its standard string representation: if you ask for the length of a string, or iterate over it, etc., the result will be in UTF-16 words, with any code points outside the BMP expressed as surrogate pairs. UTF-16 is also used by the Microsoft Win32 APIs; though Win32 supports either 8-bit or 16-bit strings, the 8-bit version unaccountably still doesn’t support UTF-8—only legacy code-page encodings, like ANSI. This leaves UTF-16 as the only way to get proper Unicode support in Windows. (Update: in Win10 version 1903, they finally added UTF-8 support to the 8-bit APIs! 😊) By the way, UTF-16’s words can be stored either little-endian or big-endian. Unicode has no opinion on that issue, though it does encourage the convention of putting U+FEFF zero width no-break space at the top of a UTF-16 file as a byte-order mark, to disambiguate the endianness. (If the file doesn’t match the system’s endianness, the BOM will be decoded as U+FFFE, which isn’t a valid code point.) Combining Marks In the story so far, we’ve been focusing on code points. But in Unicode, a “character” can be more complicated than just an individual code point! Unicode includes a system for dynamically composing characters, by combining multiple code points together. This is used in various ways to gain flexibility without causing a huge combinatorial explosion in the number of code points. In European languages, for example, this shows up in the application of diacritics to letters. Unicode supports a wide range of diacritics, including acute and grave accents, umlauts, cedillas, and many more. All these diacritics can be applied to any letter of any alphabet—and in fact, multiple diacritics can be used on a single letter. If Unicode tried to assign a distinct code point to every possible combination of letter and diacritics, things would rapidly get out of hand. Instead, the dynamic composition system enables you to construct the character you want, by starting with a base code point (the letter) and appending additional code points, called “combining marks”, to specify the diacritics. When a text renderer sees a sequence like this in a string, it automatically stacks the diacritics over or under the base letter to create a composed character. For example, the accented character “Á” can be expressed as a string of two code points: U+0041 “A” latin capital letter a plus U+0301 “◌́” combining acute accent. This string automatically gets rendered as a single character: “Á”. Now, Unicode does also include many “precomposed” code points, each representing a letter with some combination of diacritics already applied, such as U+00C1 “Á” latin capital letter a with acute or U+1EC7 “ệ” latin small letter e with circumflex and dot below. I suspect these are mostly inherited from older encodings that were assimilated into Unicode, and kept around for compatibility. In practice, there are precomposed code points for most of the common letter-with-diacritic combinations in European-script languages, so they don’t use dynamic composition that much in typical text. Still, the system of combining marks does allow for an arbitrary number of diacritics to be stacked on any base character. The reductio-ad-absurdum of this is Zalgo text, which works by ͖͟ͅr͞aṋ̫̠̖͈̗d͖̻̹óm̪͙͕̗̝ļ͇̰͓̳̫ý͓̥̟͍ ̕s̫t̫̱͕̗̰̼̘͜a̼̩͖͇̠͈̣͝c̙͍k̖̱̹͍͘i̢n̨̺̝͇͇̟͙ģ̫̮͎̻̟ͅ ̕n̼̺͈͞u̮͙m̺̭̟̗͞e̞͓̰̤͓̫r̵o̖ṷs҉̪͍̭̬̝̤ ̮͉̝̞̗̟͠d̴̟̜̱͕͚i͇̫̼̯̭̜͡ḁ͙̻̼c̲̲̹r̨̠̹̣̰̦i̱t̤̻̤͍͙̘̕i̵̜̭̤̱͎c̵s ͘o̱̲͈̙͖͇̲͢n͘ ̜͈e̬̲̠̩ac͕̺̠͉h̷̪ ̺̣͖̱ḻ̫̬̝̹ḙ̙̺͙̭͓̲t̞̞͇̲͉͍t̷͔̪͉̲̻̠͙e̦̻͈͉͇r͇̭̭̬͖,̖́ ̜͙͓̣̭s̘̘͈o̱̰̤̲ͅ ̛̬̜̙t̼̦͕̱̹͕̥h̳̲͈͝ͅa̦t̻̲ ̻̟̭̦̖t̛̰̩h̠͕̳̝̫͕e͈̤̘͖̞͘y҉̝͙ ̷͉͔̰̠o̞̰v͈͈̳̘͜er̶f̰͈͔ḻ͕̘̫̺̲o̲̭͙͠ͅw̱̳̺ ͜t̸h͇̭͕̳͍e̖̯̟̠ ͍̞̜͔̩̪͜ļ͎̪̲͚i̝̲̹̙̩̹n̨̦̩̖ḙ̼̲̼͢ͅ ̬͝s̼͚̘̞͝p͙̘̻a̙c҉͉̜̤͈̯̖i̥͡n̦̠̱͟g̸̗̻̦̭̮̟ͅ ̳̪̠͖̳̯̕a̫͜n͝d͡ ̣̦̙ͅc̪̗r̴͙̮̦̹̳e͇͚̞͔̹̫͟a̙̺̙ț͔͎̘̹ͅe̥̩͍ a͖̪̜̮͙̹n̢͉̝ ͇͉͓̦̼́a̳͖̪̤̱p̖͔͔̟͇͎͠p̱͍̺ę̲͎͈̰̲̤̫a̯͜r̨̮̫̣̘a̩̯͖n̹̦̰͎̣̞̞c̨̦̱͔͎͍͖e̬͓͘ ̤̰̩͙̤̬͙o̵̼̻̬̻͇̮̪f̴ ̡̙̭͓͖̪̤“̸͙̠̼c̳̗͜o͏̼͙͔̮r̞̫̺̞̥̬ru̺̻̯͉̭̻̯p̰̥͓̣̫̙̤͢t̳͍̳̖ͅi̶͈̝͙̼̙̹o̡͔n̙̺̹̖̩͝ͅ”̨̗͖͚̩.̯͓ A few other places where dynamic character composition shows up in Unicode: Vowel-pointing notation in Arabic and Hebrew. In these languages, words are normally spelled with some of their vowels left out. They then have diacritic notation to indicate the vowels (used in dictionaries, language-teaching materials, children’s books, and such). These diacritics are expressed with combining marks. A Hebrew example, with niqqud: אֶת דַלְתִּי הֵזִיז הֵנִיעַ, קֶטֶב לִשְׁכַּתִּי יָשׁוֹד Normal writing (no niqqud): את דלתי הזיז הניע, קטב לשכתי ישוד Devanagari, the script used to write Hindi, Sanskrit, and many other South Asian languages, expresses certain vowels as combining marks attached to consonant letters. For example, “ह” + “​ि” = “हि” (“h” + “i” = “hi”). Korean characters stand for syllables, but they are composed of letters called jamo that stand for the vowels and consonants in the syllable. While there are code points for precomposed Korean syllables, it’s also possible to dynamically compose them by concatenating their jamo. For example, “ᄒ” + “ᅡ” + “ᆫ” = “한” (“h” + “a” + “n” = “han”). Canonical Equivalence In Unicode, precomposed characters exist alongside the dynamic composition system. A consequence of this is that there are multiple ways to express “the same” string—different sequences of code points that result in the same user-perceived characters. For example, as we saw earlier, we can express the character “Á” either as the single code point U+00C1, or as the string of two code points U+0041 U+0301. Another source of ambiguity is the ordering of multiple diacritics in a single character. Diacritic order matters visually when two diacritics apply to the same side of the base character, e.g. both above: “ǡ” (dot, then macron) is different from “ā̇” (macron, then dot). However, when diacritics apply to different sides of the character, e.g. one above and one below, then the order doesn’t affect rendering. Moreover, a character with multiple diacritics might have one of the diacritics precomposed and others expressed as combining marks. For example, the Vietnamese letter “ệ” can be expressed in five different ways: Fully precomposed: U+1EC7 “ệ” Partially precomposed: U+1EB9 “ẹ” + U+0302 “◌̂” Partially precomposed: U+00EA “ê” + U+0323 “◌̣” Fully decomposed: U+0065 “e” + U+0323 “◌̣” + U+0302 “◌̂” Fully decomposed: U+0065 “e” + U+0302 “◌̂” + U+0323 “◌̣” Unicode refers to set of strings like this as “canonically equivalent”. Canonically equivalent strings are supposed to be treated as identical for purposes of searching, sorting, rendering, text selection, and so on. This has implications for how you implement operations on text. For example, if an app has a “find in file” operation and the user searches for “ệ”, it should, by default, find occurrences of any of the five versions of “ệ” above! Normalization Forms To address the problem of “how to handle canonically equivalent strings”, Unicode defines several normalization forms: ways of converting strings into a canonical form so that they can be compared code-point-by-code-point (or byte-by-byte). The “NFD” normalization form fully decomposes every character down to its component base and combining marks, taking apart any precomposed code points in the string. It also sorts the combining marks in each character according to their rendered position, so e.g. diacritics that go below the character come before the ones that go above the character. (It doesn’t reorder diacritics in the same rendered position, since their order matters visually, as previously mentioned.) The “NFC” form, conversely, puts things back together into precomposed code points as much as possible. If an unusual combination of diacritics is called for, there may not be any precomposed code point for it, in which case NFC still precomposes what it can and leaves any remaining combining marks in place (again ordered by rendered position, as in NFD). There are also forms called NFKD and NFKC. The “K” here refers to compatibility decompositions, which cover characters that are “similar” in some sense but not visually identical. However, I’m not going to cover that here. Grapheme Clusters As we’ve seen, Unicode contains various cases where a thing that a user thinks of as a single “character” might actually be made up of multiple code points under the hood. Unicode formalizes this using the notion of a grapheme cluster: a string of one or more code points that constitute a single “user-perceived character”. UAX #29 defines the rules for what, precisely, qualifies as a grapheme cluster. It’s approximately “a base code point followed by any number of combining marks”, but the actual definition is a bit more complicated; it accounts for things like Korean jamo, and emoji ZWJ sequences. The main thing grapheme clusters are used for is text editing: they’re often the most sensible unit for cursor placement and text selection boundaries. Using grapheme clusters for these purposes ensures that you can’t accidentally chop off some diacritics when you copy-and-paste text, that left/right arrow keys always move the cursor by one visible character, and so on. Another place where grapheme clusters are useful is in enforcing a string length limit—say, on a database field. While the true, underlying limit might be something like the byte length of the string in UTF-8, you wouldn’t want to enforce that by just truncating bytes. At a minimum, you’d want to “round down” to the nearest code point boundary; but even better, round down to the nearest grapheme cluster boundary. Otherwise, you might be corrupting the last character by cutting off a diacritic, or interrupting a jamo sequence or ZWJ sequence. And More… There’s much more that could be said about Unicode from a programmer’s perspective! I haven’t gotten into such fun topics as case mapping, collation, compatibility decompositions and confusables, Unicode-aware regexes, or bidirectional text. Nor have I said anything yet about implementation issues—how to efficiently store and look-up data about the sparsely-assigned code points, or how to optimize UTF-8 decoding, string comparison, or NFC normalization. Perhaps I’ll return to some of those things in future posts. Unicode is a fascinating and complex system. It has a many-to-one mapping between bytes and code points, and on top of that a many-to-one (or, under some circumstances, many-to-many) mapping between code points and “characters”. It has oddball special cases in every corner. But no one ever claimed that representing all written languages was going to be easy, and it’s clear that we’re never going back to the bad old days of a patchwork of incompatible encodings. Further reading: The Unicode Standard UTF-8 Everywhere Manifesto Dark corners of Unicode by Eevee ICU (International Components for Unicode)—C/C++/Java libraries implementing many Unicode algorithms and related things Python 3 Unicode Howto Google Noto Fonts—set of fonts intended to cover all assigned code points\"\"\"\n",
    "tokens = text.encode(\"utf-8\")  # raw byte objects\n",
    "tokens = list(map(int, tokens))  # convert to list of integers"
   ]
  },
  {
   "cell_type": "code",
   "execution_count": 12,
   "metadata": {},
   "outputs": [
    {
     "name": "stdout",
     "output_type": "stream",
     "text": [
      "merging(101, 32) into a new token 256\n",
      "merging(105, 110) into a new token 257\n",
      "merging(115, 32) into a new token 258\n",
      "merging(116, 104) into a new token 259\n",
      "merging(101, 114) into a new token 260\n",
      "merging(99, 111) into a new token 261\n",
      "merging(116, 32) into a new token 262\n",
      "merging(226, 128) into a new token 263\n",
      "merging(44, 32) into a new token 264\n",
      "merging(97, 110) into a new token 265\n",
      "merging(111, 114) into a new token 266\n",
      "merging(100, 32) into a new token 267\n",
      "merging(97, 114) into a new token 268\n",
      "merging(101, 110) into a new token 269\n",
      "merging(257, 103) into a new token 270\n",
      "merging(261, 100) into a new token 271\n",
      "merging(121, 32) into a new token 272\n",
      "merging(46, 32) into a new token 273\n",
      "merging(97, 108) into a new token 274\n",
      "merging(259, 256) into a new token 275\n"
     ]
    }
   ],
   "source": [
    "# -------- for reference -------- #\n",
    "def get_stats(ids):\n",
    "    counts = {}\n",
    "    for pair in zip(ids, ids[1:]):  # to iterate over consecutive elements\n",
    "        counts[pair] = counts.get(pair, 0) + 1\n",
    "    return counts\n",
    "\n",
    "def merge(ids, pair, idx):\n",
    "    # in the list of ints (ids), replace all consecutive occurences of pair with a new token idx\n",
    "    newids = []\n",
    "    i = 0\n",
    "    while i < len(ids):\n",
    "        # if we are not at the very last position and the pair matches, replace it\n",
    "        if i < len(ids) - 1 and ids[i] == pair[0] and ids[i+1] == pair[1]:\n",
    "            newids.append(idx)  # we add this new token to our list\n",
    "            i += 2\n",
    "        else:\n",
    "            newids.append(ids[i])  # we just copy over that element\n",
    "            i += 1\n",
    "    return newids\n",
    "\n",
    "# ----------------\n",
    "vocab_size = 276  # the desired final vocabulary size\n",
    "num_merges = vocab_size - 256  # so we are going to be doing exactly 20 merges\n",
    "ids = list(tokens)  # we do this to make a copy, so that we don't modify the original\n",
    "\n",
    "merges = {}  # (int, int) -> int\n",
    "\n",
    "for i in range(num_merges):\n",
    "    stats = get_stats(ids)\n",
    "    pair = max(stats, key=stats.get)\n",
    "    idx = 256 + i\n",
    "    print(f'merging{pair} into a new token {idx}')\n",
    "    ids = merge(ids, pair, idx)\n",
    "    merges[pair] = idx"
   ]
  },
  {
   "cell_type": "code",
   "execution_count": 13,
   "metadata": {},
   "outputs": [
    {
     "name": "stdout",
     "output_type": "stream",
     "text": [
      "tokens length: 24547\n",
      "ids length: 19384\n",
      "compression ratio: 1.27x\n"
     ]
    }
   ],
   "source": [
    "print(\"tokens length:\", len(tokens))\n",
    "print(\"ids length:\", len(ids))\n",
    "print(f\"compression ratio: {len(tokens)/len(ids):.2f}x\")"
   ]
  },
  {
   "cell_type": "code",
   "execution_count": 14,
   "metadata": {},
   "outputs": [
    {
     "name": "stdout",
     "output_type": "stream",
     "text": [
      "�\n"
     ]
    }
   ],
   "source": [
    "# decoding\n",
    "# given a sequence of integers in the 0 to vocab_size range, what's the text\n",
    "vocab = {idx: bytes([idx]) for idx in range(256)}  # bytes([idx]) --> maps each key (idx) to a byte value\n",
    "for (p0, p1), idx in merges.items():\n",
    "    vocab[idx] = vocab[p0] + vocab[p1]  # concatenating the two bytes objects\n",
    "\n",
    "def decode(ids):\n",
    "    # given ids (list of integers), returns Python string\n",
    "    tokens = b\"\".join(vocab[idx] for idx in ids)  # b\"\".join --> way to concatenate bytes\n",
    "    text = tokens.decode(\"utf-8\", errors='replace')  # errors='replace' replaces a byte which doesn't follow valid utf-8 byte encoding with a ? symbolS\n",
    "    return text\n",
    "\n",
    "print(decode([128]))"
   ]
  },
  {
   "cell_type": "code",
   "execution_count": 15,
   "metadata": {},
   "outputs": [
    {
     "name": "stdout",
     "output_type": "stream",
     "text": [
      "[104, 101, 108, 108, 111, 32, 119, 111, 114, 108, 100, 33]\n"
     ]
    }
   ],
   "source": [
    "# encoding\n",
    "# given a string, what are the tokens?\n",
    "\n",
    "def encode(text):\n",
    "    tokens = list(text.encode(\"utf-8\"))\n",
    "    while len(tokens) >= 2:  # for handling when just a single token is passed in\n",
    "        stats = get_stats(ids)\n",
    "        pair = min(stats, key=lambda p: merges.get(p, float(\"inf\")))  \n",
    "        # returns the index of the pair which has the least value in merges (in this case, 256)\n",
    "        # float(\"inf\") --> we do this because if we consider a pair not in merges dict, we set it to infinity so it won't ever get selected in min()\n",
    "        if pair not in merges:  # this means, there is nothing to merge\n",
    "            break\n",
    "        idx = merges[pair]\n",
    "        tokens = merges(tokens, pair, idx)\n",
    "    return tokens\n",
    "\n",
    "print(encode(\"hello world!\"))"
   ]
  },
  {
   "cell_type": "code",
   "execution_count": 16,
   "metadata": {},
   "outputs": [
    {
     "name": "stdout",
     "output_type": "stream",
     "text": [
      "hello world\n"
     ]
    }
   ],
   "source": [
    "print(decode(encode(\"hello world\")))"
   ]
  },
  {
   "cell_type": "markdown",
   "metadata": {},
   "source": [
    "#### Forcing splits across different character types (like letters and punctuation)"
   ]
  },
  {
   "cell_type": "code",
   "execution_count": 17,
   "metadata": {},
   "outputs": [
    {
     "name": "stdout",
     "output_type": "stream",
     "text": [
      "['Hello', ' world', '123', ',', ' how', \"'re\", '     ', ' you', '?!!']\n"
     ]
    }
   ],
   "source": [
    "import regex as re\n",
    "gpt2pat = re.compile(r\"\"\"'s|'t|'re|'ve|'m|'ll|'d| ?\\p{L}+| ?\\p{N}+| ?[^\\s\\p{L}\\p{N}]+|\\s+(?!\\S)|\\s+\"\"\")\n",
    "# \\p{L} any kind of letter from any language\n",
    "# \\p{N} any kind of numeric digit\n",
    "# ?[^\\s\\p{L}\\p{N}]+ characters that are not spaces (\\s), not letters, and not numbers (so basically, punctuation in most cases)\n",
    "# \\s+(?!\\S) matching whitespaces but only upto and not including the last whitespace character\n",
    "\n",
    "print(re.findall(gpt2pat, \"Hello world123, how're      you?!!\"))\n",
    "# so we'll only merge within each element itself in the list, not with other words which have been split"
   ]
  },
  {
   "cell_type": "code",
   "execution_count": 19,
   "metadata": {},
   "outputs": [
    {
     "name": "stdout",
     "output_type": "stream",
     "text": [
      "Collecting tiktoken\n",
      "  Downloading tiktoken-0.7.0-cp311-cp311-win_amd64.whl.metadata (6.8 kB)\n",
      "Requirement already satisfied: regex>=2022.1.18 in c:\\users\\avira\\anaconda3\\lib\\site-packages (from tiktoken) (2023.10.3)\n",
      "Requirement already satisfied: requests>=2.26.0 in c:\\users\\avira\\anaconda3\\lib\\site-packages (from tiktoken) (2.32.3)\n",
      "Requirement already satisfied: charset-normalizer<4,>=2 in c:\\users\\avira\\anaconda3\\lib\\site-packages (from requests>=2.26.0->tiktoken) (2.0.4)\n",
      "Requirement already satisfied: idna<4,>=2.5 in c:\\users\\avira\\anaconda3\\lib\\site-packages (from requests>=2.26.0->tiktoken) (3.4)\n",
      "Requirement already satisfied: urllib3<3,>=1.21.1 in c:\\users\\avira\\anaconda3\\lib\\site-packages (from requests>=2.26.0->tiktoken) (2.0.7)\n",
      "Requirement already satisfied: certifi>=2017.4.17 in c:\\users\\avira\\anaconda3\\lib\\site-packages (from requests>=2.26.0->tiktoken) (2024.6.2)\n",
      "Downloading tiktoken-0.7.0-cp311-cp311-win_amd64.whl (799 kB)\n",
      "   ---------------------------------------- 0.0/799.0 kB ? eta -:--:--\n",
      "    --------------------------------------- 10.2/799.0 kB ? eta -:--:--\n",
      "   - ------------------------------------- 30.7/799.0 kB 435.7 kB/s eta 0:00:02\n",
      "   -- ------------------------------------ 61.4/799.0 kB 544.7 kB/s eta 0:00:02\n",
      "   ----- -------------------------------- 122.9/799.0 kB 901.1 kB/s eta 0:00:01\n",
      "   -------- ----------------------------- 174.1/799.0 kB 871.5 kB/s eta 0:00:01\n",
      "   ----------- -------------------------- 235.5/799.0 kB 958.6 kB/s eta 0:00:01\n",
      "   --------------- ------------------------ 307.2/799.0 kB 1.1 MB/s eta 0:00:01\n",
      "   ------------------ --------------------- 378.9/799.0 kB 1.1 MB/s eta 0:00:01\n",
      "   ----------------------- ---------------- 460.8/799.0 kB 1.2 MB/s eta 0:00:01\n",
      "   ------------------------- -------------- 512.0/799.0 kB 1.2 MB/s eta 0:00:01\n",
      "   ---------------------------- ----------- 573.4/799.0 kB 1.2 MB/s eta 0:00:01\n",
      "   -------------------------------- ------- 655.4/799.0 kB 1.3 MB/s eta 0:00:01\n",
      "   ------------------------------------ --- 727.0/799.0 kB 1.3 MB/s eta 0:00:01\n",
      "   -------------------------------------- - 778.2/799.0 kB 1.3 MB/s eta 0:00:01\n",
      "   ---------------------------------------- 799.0/799.0 kB 1.3 MB/s eta 0:00:00\n",
      "Installing collected packages: tiktoken\n",
      "Successfully installed tiktoken-0.7.0\n",
      "Note: you may need to restart the kernel to use updated packages.\n"
     ]
    }
   ],
   "source": [
    "pip install tiktoken"
   ]
  },
  {
   "cell_type": "code",
   "execution_count": 20,
   "metadata": {},
   "outputs": [
    {
     "name": "stdout",
     "output_type": "stream",
     "text": [
      "[220, 220, 220, 220, 23748, 11, 995, 3228, 30]\n",
      "[257, 24748, 11, 1917, 3001, 30]\n"
     ]
    }
   ],
   "source": [
    "import tiktoken\n",
    "\n",
    "# GPT-2 tokenizer (does not merge spaces)\n",
    "enc = tiktoken.get_encoding(\"gpt2\")\n",
    "print(enc.encode(\"     hello, world!!?\"))\n",
    "\n",
    "# GPT-4 tokenizer (merges spaces)\n",
    "enc = tiktoken.get_encoding(\"cl100k_base\")\n",
    "print(enc.encode(\"     hello, world!!?\"))"
   ]
  },
  {
   "cell_type": "code",
   "execution_count": 24,
   "metadata": {},
   "outputs": [],
   "source": [
    "# !wget https://openaipublic.blob.core.windows.net/gpt-2/models/1558M/vocab.bpe\n",
    "# !wget https://openaipublic.blob.core.windows.net/gpt-2/models/1558M/encoder.json"
   ]
  },
  {
   "cell_type": "code",
   "execution_count": 25,
   "metadata": {},
   "outputs": [],
   "source": [
    "import os, json"
   ]
  },
  {
   "cell_type": "code",
   "execution_count": 26,
   "metadata": {},
   "outputs": [],
   "source": [
    "with open('encoder.json', 'r') as f:\n",
    "    encoder = json.load(f)  # equivalent to our \"vocab\"\n",
    "\n",
    "with open('vocab.bpe', 'r', encoding=\"utf-8\") as f:\n",
    "    bpe_data = f.read()\n",
    "bpe_merges = [tuple(merge_str.split()) for merge_str in bpe_data.split('\\n')[1:-1]]  # equivalent to our merges"
   ]
  },
  {
   "cell_type": "markdown",
   "metadata": {},
   "source": [
    "#### special tokens"
   ]
  },
  {
   "cell_type": "code",
   "execution_count": 27,
   "metadata": {},
   "outputs": [
    {
     "data": {
      "text/plain": [
       "50257"
      ]
     },
     "execution_count": 27,
     "metadata": {},
     "output_type": "execute_result"
    }
   ],
   "source": [
    "len(encoder)  # 256 raw byte tokens. 50,000 merges. 1 special token: '<|endoftext|>'"
   ]
  },
  {
   "cell_type": "code",
   "execution_count": 29,
   "metadata": {},
   "outputs": [
    {
     "data": {
      "text/plain": [
       "50256"
      ]
     },
     "execution_count": 29,
     "metadata": {},
     "output_type": "execute_result"
    }
   ],
   "source": [
    "encoder['<|endoftext|>']  # to signal to the LLM when a document has ended"
   ]
  },
  {
   "cell_type": "markdown",
   "metadata": {},
   "source": [
    "#### minibpe exercise"
   ]
  },
  {
   "cell_type": "code",
   "execution_count": 48,
   "metadata": {},
   "outputs": [],
   "source": [
    "class BasicTokenizer:\n",
    "    def train(self, text, vocab_size, verbose=False):\n",
    "        num_merges = vocab_size - 256\n",
    "        tokens = text.encode(\"utf-8\")  # raw byte objects\n",
    "        ids = list(tokens)\n",
    "        merges = {}\n",
    "        vocab = {idx: bytes([idx]) for idx in range(256)}  # bytes([idx]) --> maps each key (idx) to a byte value\n",
    "        \n",
    "        for i in range(num_merges):\n",
    "            stats = get_stats(ids)\n",
    "            pair = max(stats, key=stats.get)\n",
    "            idx = 256 + i\n",
    "            ids = merge(ids, pair, idx)\n",
    "            merges[pair] = idx\n",
    "            vocab[idx] = vocab[pair[0]] + vocab[pair[1]]  # concatenating the two bytes objects\n",
    "            \n",
    "        self.merges = merges\n",
    "        self.vocab = vocab\n",
    "        return merges\n",
    "\n",
    "    def encode(self, text):\n",
    "        tokens = list(text.encode(\"utf-8\"))\n",
    "        ids = list(tokens)\n",
    "        while len(ids) >= 2:  # for handling when just a single token is passed in\n",
    "            stats = get_stats(ids)\n",
    "            pair = min(stats, key=lambda p: self.merges.get(p, float(\"inf\")))  \n",
    "            # returns the index of the pair which has the least value in merges (in this case, 256)\n",
    "            # float(\"inf\") --> we do this because if we consider a pair not in merges dict, we set it to infinity so it won't ever get selected in min()\n",
    "            if pair not in self.merges:  # this means, there is nothing to merge\n",
    "                break\n",
    "            idx = self.merges[pair]\n",
    "            ids = merge(ids, pair, idx)\n",
    "        return ids\n",
    "\n",
    "    def decode(self, ids):            \n",
    "        # given ids (list of integers), returns Python string\n",
    "        tokens = b\"\".join(self.vocab[idx] for idx in ids)  # b\"\".join --> way to concatenate bytes\n",
    "        text = tokens.decode(\"utf-8\", errors='replace')  # errors='replace' replaces a byte which doesn't follow valid utf-8 byte encoding with a ? symbolS\n",
    "        return text"
   ]
  },
  {
   "cell_type": "code",
   "execution_count": 49,
   "metadata": {},
   "outputs": [
    {
     "name": "stdout",
     "output_type": "stream",
     "text": [
      "{(101, 32): 256, (44, 32): 257, (100, 32): 258, (46, 32): 259, (114, 32): 260, (50, 48): 261, (115, 32): 262, (105, 110): 263, (111, 110): 264, (114, 105): 265, (116, 32): 266, (116, 104): 267, (101, 258): 268, (257, 261): 269, (97, 110): 270, (97, 114): 271, (101, 260): 272, (121, 32): 273, (97, 108): 274, (267, 256): 275, (118, 268): 276, (119, 105): 277, (101, 114): 278, (264, 32): 279, (277, 102): 280, (82, 101): 281, (83, 280): 282, (111, 260): 283, (99, 104): 284, (269, 49): 285, (111, 109): 286, (98, 272): 287, (32, 275): 288, (97, 121): 289, (101, 110): 290, (111, 114): 291, (274, 32): 292, (101, 109): 293, (46, 10): 294, (265, 101): 295, (263, 103): 296, (269, 50): 297, (116, 105): 298, (289, 108): 299, (34, 259): 300, (108, 108): 301, (84, 299): 302, (116, 295): 303, (294, 32): 304, (116, 111): 305, (259, 281): 306, (306, 303): 307, (307, 276): 308, (302, 283): 309, (101, 115): 310, (309, 282): 311, (117, 115): 312, (114, 286): 313, (293, 287): 314, (41, 259): 315, (65, 114): 316, (102, 313): 317, (315, 34): 318, (270, 258): 319, (114, 101): 320, (111, 117): 321, (111, 265): 322, (111, 102): 323, (103, 263): 324, (296, 32): 325, (284, 105): 326, (93, 32): 327, (324, 292): 328, (317, 288): 329, (322, 328): 330, (104, 256): 331, (316, 326): 332, (332, 276): 333, (329, 330): 334, (333, 334): 335, (335, 279): 336, (259, 336): 337, (97, 32): 338, (115, 116): 339, (105, 99): 340, (46, 91): 341, (101, 99): 342, (105, 301): 343, (39, 262): 344, (311, 266): 345, (111, 118): 346, (97, 116): 347, (97, 262): 348, (101, 262): 349, (74, 117): 350, (323, 32): 351, (305, 32): 352, (117, 109): 353, (84, 331): 354, (271, 100): 355, (263, 32): 356, (270, 32): 357, (101, 108): 358, (297, 51): 359, (271, 273): 360, (267, 32): 361, (97, 109): 362, (108, 273): 363, (111, 112): 364, (311, 116): 365, (116, 114): 366, (105, 115): 367, (104, 272): 368, (111, 32): 369, (117, 360): 370, (78, 346): 371, (312, 340): 372, (371, 314): 373, (101, 119): 374, (97, 266): 375, (108, 32): 376, (58, 32): 377, (98, 111): 378, (282, 266): 379, (68, 342): 380, (105, 116): 381, (105, 103): 382, (66, 343): 383, (49, 48): 384, (97, 115): 385, (264, 103): 386, (79, 99): 387, (97, 298): 388, (83, 116): 389, (387, 305): 390, (390, 287): 391, (97, 99): 392, (111, 119): 393, (380, 314): 394, (383, 378): 395, (97, 100): 396, (108, 101): 397, (117, 114): 398, (102, 283): 399, (32, 40): 400, (297, 50): 401, (117, 103): 402, (284, 32): 403, (115, 266): 404, (321, 110): 405, (98, 353): 406, (111, 108): 407, (312, 266): 408, (101, 98): 409, (77, 97): 410, (350, 363): 411, (318, 345): 412, (107, 32): 413, (278, 115): 414, (93, 91): 415, (65, 402): 416, (416, 408): 417, (105, 100): 418, (297, 49): 419, (109, 101): 420, (101, 112): 421, (261, 49): 422, (50, 51): 423, (285, 50): 424, (101, 271): 425, (269, 261): 426, (73, 110): 427, (102, 105): 428, (110, 256): 429, (395, 355): 430, (265, 116): 431, (104, 105): 432, (372, 32): 433, (304, 34): 434, (78, 374): 435, (100, 105): 436, (65, 112): 437, (285, 57): 438, (114, 111): 439, (39, 32): 440, (115, 257): 441, (350, 429): 442, (323, 288): 443, (99, 291): 444, (50, 49): 445, (49, 57): 446, (105, 109): 447, (290, 32): 448, (409, 114): 449, (290, 116): 450, (111, 301): 451, (77, 271): 452, (265, 99): 453, (277, 361): 454, (44, 91): 455, (70, 449): 456, (456, 370): 457, (365, 344): 458, (300, 430): 459, (101, 97): 460, (285, 54): 461, (421, 116): 462, (410, 273): 463, (285, 53): 464, (437, 265): 465, (465, 376): 466, (108, 256): 467, (65, 119): 468, (388, 264): 469, (83, 462): 470, (470, 314): 471, (114, 97): 472, (274, 406): 473, (67, 104): 474, (118, 256): 475, (310, 266): 476, (74, 270): 477, (50, 50): 478, (477, 370): 479, (405, 366): 480, (382, 104): 481, (300, 354): 482, (359, 304): 483, (49, 51): 484, (65, 108): 485, (101, 116): 486, (310, 115): 487, (452, 403): 488, (117, 116): 489, (119, 431): 490, (108, 111): 491, (195, 162): 492, (492, 226): 493, (115, 386): 494, (493, 130): 495, (495, 172): 496, (271, 258): 497, (48, 32): 498, (117, 108): 499, (50, 52): 500, (105, 262): 501, (298, 99): 502, (97, 103): 503, (34, 32): 504, (65, 110): 505, (49, 56): 506, (102, 291): 507, (480, 273): 508, (65, 420): 509, (509, 453): 510, (32, 84): 511, (115, 296): 512, (119, 348): 513, (49, 50): 514, (111, 99): 515, (364, 32): 516, (49, 55): 517, (108, 105): 518, (77, 433): 519, (101, 257): 520, (49, 52): 521, (117, 110): 522, (93, 10): 523, (435, 32): 524, (118, 105): 525, (468, 355): 526, (269, 48): 527, (83, 331): 528, (116, 278): 529, (98, 273): 530, (115, 331): 531, (97, 105): 532, (271, 116): 533, (101, 301): 534, (49, 49): 535, (111, 116): 536, (496, 226): 537, (537, 128): 538, (97, 98): 539, (444, 100): 540, (83, 112): 541, (121, 257): 542, (308, 411): 543, (308, 417): 544, (321, 114): 545, (270, 100): 546, (285, 55): 547, (510, 357): 548, (101, 101): 549, (115, 117): 550, (327, 319): 551, (49, 53): 552, (50, 54): 553, (111, 103): 554, (101, 118): 555, (50, 57): 556, (419, 304): 557, (87, 105): 558, (32, 77): 559, (320, 99): 560, (83, 386): 561, (50, 53): 562, (50, 55): 563, (261, 48): 564, (389, 264): 565, (101, 105): 566, (308, 394): 567, (290, 266): 568, (401, 304): 569, (321, 260): 570, (114, 404): 571, (111, 100): 572, (40, 373): 573, (105, 264): 574, (32, 319): 575, (115, 115): 576, (82, 451): 577, (459, 337): 578, (418, 101): 579, (290, 110): 580, (101, 120): 581, (278, 257): 582, (347, 268): 583, (507, 109): 584, (270, 99): 585, (577, 325): 586, (586, 565): 587, (51, 48): 588, (308, 373): 589, (104, 97): 590, (34, 257): 591, (99, 264): 592, (112, 32): 593, (97, 263): 594, (101, 100): 595, (485, 406): 596, (271, 298): 597, (71, 114): 598, (105, 279): 599, (341, 53): 600, (84, 447): 601, (359, 318): 602, (49, 54): 603, (388, 279): 604, (290, 100): 605, (105, 339): 606, (282, 116): 607, (112, 108): 608, (310, 116): 609, (308, 457): 610, (308, 391): 611, (99, 286): 612, (110, 32): 613, (264, 256): 614, (298, 264): 615, (117, 99): 616, (105, 270): 617, (278, 262): 618, (297, 52): 619, (395, 497): 620, (338, 40): 621, (341, 51): 622, (263, 288): 623, (50, 56): 624, (393, 32): 625, (341, 52): 626, (308, 466): 627, (538, 156): 628, (310, 262): 629, (73, 262): 630, (104, 348): 631, (109, 273): 632, (267, 375): 633, (257, 74): 634, (285, 51): 635, (111, 266): 636, (116, 262): 637, (443, 89): 638, (460, 260): 639, (587, 101): 640, (327, 528): 641, (327, 379): 642, (115, 112): 643, (108, 117): 644, (112, 112): 645, (87, 104): 646, (279, 275): 647, (427, 32): 648, (285, 52): 649, (273, 40): 650, (109, 433): 651, (428, 571): 652, (116, 272): 653, (83, 104): 654, (291, 108): 655, (256, 40): 656, (300, 640): 657, (76, 105): 658, (261, 423): 659, (97, 107): 660, (112, 104): 661, (112, 114): 662, (385, 104): 663, (525, 374): 664, (285, 56): 665, (109, 111): 666, (281, 540): 667, (317, 32): 668, (105, 114): 669, (84, 104): 670, (434, 345): 671, (300, 67): 672, (290, 99): 673, (308, 463): 674, (85, 83): 675, (72, 272): 676, (257, 319): 677, (397, 385): 678, (65, 301): 679, (109, 270): 680, (558, 361): 681, (426, 304): 682, (316, 298): 683, (99, 508): 684, (607, 344): 685, (109, 343): 686, (337, 373): 687, (281, 112): 688, (473, 32): 689, (109, 372): 690, (48, 48): 691, (424, 304): 692, (579, 369): 693, (97, 260): 694, (268, 275): 695, (98, 101): 696, (346, 272): 697, (262, 40): 698, (115, 104): 699, (524, 89): 700, (700, 291): 701, (99, 265): 702, (285, 48): 703, (337, 394): 704, (105, 108): 705, (118, 343): 706, (119, 432): 707, (267, 272): 708, (112, 278): 709, (415, 51): 710, (308, 471): 711, (72, 636): 712, (102, 102): 713, (32, 83): 714, (549, 107): 715, (113, 117): 716, (308, 442): 717, (401, 318): 718, (41, 10): 719, (494, 490): 720, (98, 108): 721, (98, 342): 722, (320, 678): 723, (89, 321): 724, (291, 256): 725, (69, 114): 726, (119, 104): 727, (561, 490): 728, (278, 256): 729, (300, 86): 730, (56, 57): 731, (268, 530): 732, (271, 266): 733, (111, 115): 734, (67, 508): 735, (527, 57): 736, (67, 264): 737, (77, 372): 738, (320, 362): 739, (110, 353): 740, (98, 278): 741, (261, 261): 742, (71, 320): 743, (263, 99): 744, (707, 403): 745, (262, 351): 746, (77, 84): 747, (49, 32): 748, (97, 339): 749, (78, 663): 750, (750, 706): 751, (268, 368): 752, (112, 516): 753, (257, 379): 754, (598, 362): 755, (97, 118): 756, (274, 108): 757, (367, 266): 758, (337, 391): 759, (69, 110): 760, (65, 32): 761, (111, 111): 762, (302, 291): 763, (362, 256): 764, (377, 354): 765, (298, 109): 766, (97, 273): 767, (101, 273): 768, (105, 118): 769, (71, 117): 770, (51, 49): 771, (435, 115): 772, (116, 398): 773, (446, 731): 774, (274, 256): 775, (87, 655): 776, (755, 632): 777, (444, 258): 778, (348, 338): 779, (474, 265): 780, (321, 266): 781, (100, 257): 782, (66, 476): 783, (461, 304): 784, (337, 442): 785, (472, 661): 786, (97, 257): 787, (375, 275): 788, (270, 105): 789, (312, 366): 790, (69, 118): 791, (107, 256): 792, (726, 348): 793, (59, 32): 794, (74, 111): 795, (285, 49): 796, (101, 300): 797, (112, 101): 798, (121, 108): 799, (66, 382): 800, (116, 257): 801, (84, 570): 802, (109, 32): 803, (609, 45): 804, (274, 376): 805, (491, 98): 806, (638, 639): 807, (105, 420): 808, (117, 292): 809, (367, 104): 810, (384, 48): 811, (101, 266): 812, (263, 110): 813, (101, 103): 814, (458, 39): 815, (365, 257): 816, (347, 256): 817, (65, 99): 818, (310, 257): 819, (392, 413): 820, (688, 489): 821, (763, 344): 822, (99, 278): 823, (256, 351): 824, (268, 352): 825, (78, 111): 826, (415, 53): 827, (515, 105): 828, (112, 439): 829, (519, 526): 830, (119, 286): 831, (597, 339): 832, (87, 343): 833, (117, 260): 834, (293, 775): 835, (70, 291): 836, (596, 32): 837, (111, 312): 838, (271, 256): 839, (101, 344): 840, (296, 288): 841, (270, 110): 842, (308, 479): 843, (86, 693): 844, (117, 721): 845, (396, 105): 846, (77, 101): 847, (262, 319): 848, (686, 599): 849, (381, 273): 850, (709, 584): 851, (103, 104): 852, (108, 121): 853, (666, 404): 854, (44, 691): 855, (87, 715): 856, (116, 101): 857, (337, 411): 858, (337, 471): 859, (337, 417): 860, (115, 300): 861, (601, 310): 862, (270, 103): 863, (374, 32): 864, (340, 32): 865, (460, 413): 866, (396, 256): 867, (271, 107): 868, (305, 288): 869, (115, 369): 870, (73, 32): 871, (101, 102): 872, (392, 107): 873, (468, 497): 874, (286, 263): 875, (85, 110): 876, (414, 574): 877, (337, 479): 878, (359, 412): 879, (438, 304): 880, (580, 487): 881, (425, 108): 882, (381, 262): 883, (121, 110): 884, (97, 117): 885, (418, 110): 886, (683, 404): 887, (268, 279): 888, (701, 413): 889, (597, 404): 890, (702, 502): 891, (52, 327): 892, (65, 576): 893, (97, 104): 894, (337, 463): 895, (826, 259): 896, (680, 257): 897, (101, 347): 898, (382, 110): 899, (41, 32): 900, (111, 257): 901, (70, 882): 902, (319, 34): 903, (102, 653): 904, (104, 481): 905, (275, 652): 906, (53, 327): 907, (100, 264): 908, (103, 476): 909, (117, 266): 910, (103, 290): 911, (290, 298): 912, (481, 116): 913, (116, 121): 914, (86, 877): 915, (438, 318): 916, (419, 318): 917, (320, 256): 918, (115, 10): 919, (84, 545): 920, (100, 616): 921, (40, 422): 922, (512, 467): 923, (415, 52): 924, (80, 101): 925, (455, 53): 926, (70, 105): 927, (97, 499): 928, (97, 295): 929, (365, 377): 930, (436, 338): 931, (114, 310): 932, (590, 475): 933, (100, 310): 934, (473, 262): 935, (724, 32): 936, (97, 112): 937, (541, 866): 938, (938, 78): 939, (356, 422): 940, (836, 98): 941, (77, 111): 942, (644, 100): 943, (340, 107): 944, (327, 648): 945, (751, 256): 946, (111, 45): 947, (82, 111): 948, (405, 100): 949, (527, 56): 950, (399, 275): 951, (855, 498): 952, (84, 114): 953, (822, 915): 954, (77, 99): 955, (628, 32): 956, (554, 786): 957, (263, 100): 958, (112, 364): 959, (97, 258): 960, (108, 349): 961, (384, 498): 962, (116, 325): 963, (591, 34): 964, (66, 491): 965, (278, 109): 966, (320, 540): 967, (71, 806): 968, (744, 943): 969, (358, 112): 970, (455, 52): 971, (532, 258): 972, (119, 279): 973, (893, 828): 974, (505, 110): 975, (428, 358): 976, (291, 273): 977, (110, 864): 978, (385, 115): 979, (474, 733): 980, (32, 772): 981, (461, 544): 982, (365, 300): 983, (72, 625): 984, (83, 296): 985, (263, 256): 986, (339, 739): 987, (77, 886): 988, (97, 119): 989, (439, 576): 990, (291, 101): 991, (341, 54): 992, (67, 271): 993, (121, 425): 994, (262, 352): 995, (277, 267): 996, (538, 157): 997, (116, 594): 998, (84, 808): 999}\n"
     ]
    }
   ],
   "source": [
    "with open('ts.txt', 'r') as f:\n",
    "    train_data = f.read()\n",
    "\n",
    "a = BasicTokenizer()\n",
    "print(a.train(train_data, 1000))"
   ]
  },
  {
   "cell_type": "code",
   "execution_count": 46,
   "metadata": {},
   "outputs": [
    {
     "name": "stdout",
     "output_type": "stream",
     "text": [
      "[737, 118, 278, 266, 121, 321, 32, 66, 385, 340, 84, 111, 107, 290, 105, 122, 272, 263, 352, 338, 281, 103, 581, 84, 111, 107, 290, 105, 122, 582, 745, 116, 660, 349, 338, 320, 103, 581, 32, 112, 347, 529, 110, 575, 115, 608, 883, 275, 116, 581, 266, 581, 392, 116, 363, 348, 71, 80, 84, 45, 52, 32, 119, 321, 108, 100, 259, 80, 439, 99, 629, 275, 112, 533, 262, 115, 421, 271, 347, 358, 273, 348, 696, 507, 520, 267, 448, 592, 99, 347, 290, 817, 275, 932, 499, 116, 115, 306, 366, 97, 356, 121, 570, 305, 107, 290, 105, 122, 272, 319, 612, 112, 839, 275, 932, 499, 637, 696, 507, 256, 319, 97, 102, 529, 259, 936, 699, 321, 108, 258, 115, 101, 256, 633, 121, 321, 32, 277, 301, 32, 110, 625, 933, 110, 369, 305, 107, 290, 262, 633, 103, 369, 392, 439, 115, 262, 99, 347, 814, 111, 295, 698, 740, 98, 414, 257, 397, 116, 116, 414, 257, 112, 522, 99, 116, 117, 469, 257, 109, 725, 267, 357, 614, 727, 381, 310, 112, 392, 101, 315, 85, 115, 256, 275, 71, 80, 84, 45, 52, 32, 112, 347, 529, 110]\n"
     ]
    }
   ],
   "source": [
    "print(a.encode(\"Convert you BasicTokenizer into a RegexTokenizer, which takes a regex pattern and splits the text exactly as GPT-4 would. Process the parts separately as before, then concatenate the results. Retrain your tokenizer and compare the results before and after. You should see that you will now have no tokens that go across categories (numbers, letters, punctuation, more than one whitespace). Use the GPT-4 pattern\"))"
   ]
  },
  {
   "cell_type": "code",
   "execution_count": 50,
   "metadata": {},
   "outputs": [
    {
     "name": "stdout",
     "output_type": "stream",
     "text": [
      "Convert you BasicTokenizer into a RegexTokenizer, which takes a regex pattern and splits the text exactly as GPT-4 would. Process the parts separately as before, then concatenate the results. Retrain your tokenizer and compare the results before and after. You should see that you will now have no tokens that go across categories (numbers, letters, punctuation, more than one whitespace). Use the GPT-4 pattern\n"
     ]
    }
   ],
   "source": [
    "print(a.decode(a.encode(\"Convert you BasicTokenizer into a RegexTokenizer, which takes a regex pattern and splits the text exactly as GPT-4 would. Process the parts separately as before, then concatenate the results. Retrain your tokenizer and compare the results before and after. You should see that you will now have no tokens that go across categories (numbers, letters, punctuation, more than one whitespace). Use the GPT-4 pattern\")))"
   ]
  },
  {
   "cell_type": "code",
   "execution_count": 51,
   "metadata": {},
   "outputs": [],
   "source": [
    "# it works!!"
   ]
  },
  {
   "cell_type": "code",
   "execution_count": 53,
   "metadata": {},
   "outputs": [],
   "source": [
    "GPT4_SPLIT_PATTERN = r\"\"\"'(?i:[sdmt]|ll|ve|re)|[^\\r\\n\\p{L}\\p{N}]?+\\p{L}+|\\p{N}{1,3}| ?[^\\s\\p{L}\\p{N}]++[\\r\\n]*|\\s*[\\r\\n]|\\s+(?!\\S)|\\s+\"\"\""
   ]
  },
  {
   "cell_type": "code",
   "execution_count": 57,
   "metadata": {},
   "outputs": [],
   "source": [
    "def split_text(text):\n",
    "    pattern = re.compile(GPT4_SPLIT_PATTERN)\n",
    "    parts = pattern.findall(text)\n",
    "    return parts"
   ]
  },
  {
   "cell_type": "code",
   "execution_count": 64,
   "metadata": {},
   "outputs": [],
   "source": [
    "class RegexTokenizer:\n",
    "    def encode_part(self, part):\n",
    "        tokens = list(part.encode(\"utf-8\"))\n",
    "        ids = list(tokens)\n",
    "        while len(ids) >= 2:  # for handling when just a single token is passed in\n",
    "            stats = get_stats(ids)\n",
    "            pair = min(stats, key=lambda p: self.merges.get(p, float(\"inf\")))  \n",
    "            # returns the index of the pair which has the least value in merges (in this case, 256)\n",
    "            # float(\"inf\") --> we do this because if we consider a pair not in merges dict, we set it to infinity so it won't ever get selected in min()\n",
    "            if pair not in self.merges:  # this means, there is nothing to merge\n",
    "                break\n",
    "            idx = self.merges[pair]\n",
    "            ids = merge(ids, pair, idx)\n",
    "        return ids\n",
    "\n",
    "    def encode(self, text):\n",
    "        parts = split_text(text)\n",
    "        encoded_parts = [self.encode_part(part) for part in parts]\n",
    "        return [token for part in encoded_parts for token in part]\n",
    "    \n",
    "    def train(self, text, vocab_size, verbose=False):\n",
    "        num_merges = vocab_size - 256\n",
    "        parts = split_text(text)\n",
    "\n",
    "        self.vocab = {idx: bytes([idx]) for idx in range(256)}  # bytes([idx]) --> maps each key (idx) to a byte value\n",
    "        \n",
    "        byte_parts = [part.encode(\"utf-8\") for part in parts]  # convert parts to byte sequences\n",
    "        ids = [list(part) for part in byte_parts]  # initialize ids as a list of lists, each sublist containing byte values\n",
    "\n",
    "        merges = {}\n",
    "\n",
    "        for i in range(num_merges):\n",
    "            stats = {}  # collect stats across all parts\n",
    "            for part_id in ids:\n",
    "                part_stats = get_stats(part_id)\n",
    "                for pair, count in part_stats.items():\n",
    "                    stats[pair] = stats.get(pair, 0) + count\n",
    "\n",
    "            if not stats: \n",
    "                break\n",
    "            \n",
    "            best_pair = max(stats, key=stats.get)\n",
    "            idx = 256 + i\n",
    "\n",
    "            ids = [merge(part_id, best_pair, idx) for part_id in ids]\n",
    "            merges[best_pair] = idx\n",
    "            self.vocab[idx] = self.vocab[best_pair[0]] + self.vocab[best_pair[1]]\n",
    "\n",
    "        self.merges = merges\n",
    "        return merges\n",
    "\n",
    "    def decode(self, ids):            \n",
    "        # given ids (list of integers), returns Python string\n",
    "        tokens = b\"\".join(self.vocab[idx] for idx in ids)  # b\"\".join --> way to concatenate bytes\n",
    "        text = tokens.decode(\"utf-8\", errors='replace')  # errors='replace' replaces a byte which doesn't follow valid utf-8 byte encoding with a ? symbolS\n",
    "        return text"
   ]
  },
  {
   "cell_type": "code",
   "execution_count": 65,
   "metadata": {},
   "outputs": [
    {
     "name": "stdout",
     "output_type": "stream",
     "text": [
      "{(101, 114): 256, (50, 48): 257, (111, 114): 258, (105, 110): 259, (101, 100): 260, (32, 116): 261, (111, 110): 262, (104, 101): 263, (32, 83): 264, (97, 114): 265, (97, 110): 266, (32, 65): 267, (261, 263): 268, (97, 108): 269, (114, 105): 270, (118, 260): 271, (115, 116): 272, (119, 105): 273, (32, 82): 274, (257, 49): 275, (32, 102): 276, (257, 50): 277, (32, 84): 278, (102, 116): 279, (97, 121): 280, (32, 34): 281, (273, 279): 282, (101, 116): 283, (264, 282): 284, (99, 104): 285, (98, 256): 286, (97, 116): 287, (111, 109): 288, (101, 115): 289, (101, 110): 290, (101, 109): 291, (34, 46): 292, (32, 40): 293, (46, 10): 294, (259, 103): 295, (108, 258): 296, (32, 77): 297, (105, 103): 298, (32, 262): 299, (280, 296): 300, (108, 108): 301, (270, 101): 302, (274, 283): 303, (303, 302): 304, (304, 271): 305, (32, 115): 306, (105, 99): 307, (266, 100): 308, (111, 117): 309, (101, 99): 310, (32, 97): 311, (41, 46): 312, (114, 288): 313, (32, 66): 314, (291, 286): 315, (32, 111): 316, (276, 313): 317, (267, 114): 318, (32, 308): 319, (32, 67): 320, (32, 78): 321, (32, 258): 322, (285, 105): 323, (32, 74): 324, (259, 269): 325, (322, 298): 326, (326, 325): 327, (318, 323): 328, (328, 271): 329, (316, 102): 330, (32, 104): 331, (32, 259): 332, (114, 101): 333, (84, 300): 334, (105, 116): 335, (97, 115): 336, (32, 112): 337, (105, 262): 338, (32, 68): 339, (32, 119): 340, (265, 100): 341, (105, 301): 342, (39, 115): 343, (32, 109): 344, (32, 70): 345, (32, 87): 346, (108, 101): 347, (261, 111): 348, (32, 99): 349, (46, 91): 350, (111, 118): 351, (108, 121): 352, (117, 115): 353, (32, 72): 354, (105, 115): 355, (32, 80): 356, (116, 104): 357, (99, 116): 358, (117, 109): 359, (32, 98): 360, (32, 71): 361, (265, 121): 362, (32, 73): 363, (278, 300): 364, (105, 272): 365, (32, 100): 366, (97, 109): 367, (32, 79): 368, (111, 112): 369, (324, 117): 370, (331, 256): 371, (32, 76): 372, (117, 272): 373, (97, 100): 374, (278, 263): 375, (117, 362): 376, (290, 116): 377, (353, 307): 378, (351, 315): 379, (101, 119): 380, (256, 115): 381, (265, 116): 382, (105, 100): 383, (32, 69): 384, (101, 108): 385, (262, 103): 386, (105, 109): 387, (111, 286): 388, (101, 112): 389, (276, 258): 390, (358, 388): 391, (98, 111): 392, (314, 342): 393, (310, 315): 394, (264, 116): 395, (392, 341): 396, (111, 119): 397, (117, 103): 398, (111, 116): 399, (393, 396): 400, (49, 48): 401, (110, 116): 402, (110, 101): 403, (101, 265): 404, (309, 114): 405, (270, 116): 406, (105, 114): 407, (98, 359): 408, (117, 114): 409, (287, 338): 410, (257, 48): 411, (111, 108): 412, (289, 115): 413, (32, 114): 414, (93, 91): 415, (398, 373): 416, (32, 86): 417, (32, 39): 418, (101, 98): 419, (32, 269): 420, (105, 118): 421, (32, 89): 422, (117, 116): 423, (32, 273): 424, (114, 121): 425, (101, 272): 426, (424, 357): 427, (114, 97): 428, (339, 394): 429, (321, 379): 430, (32, 287): 431, (32, 333): 432, (370, 352): 433, (261, 104): 434, (32, 110): 435, (267, 416): 436, (258, 100): 437, (119, 341): 438, (49, 57): 439, (32, 75): 440, (368, 391): 441, (32, 108): 442, (111, 301): 443, (112, 270): 444, (117, 108): 445, (389, 116): 446, (297, 378): 447, (32, 85): 448, (111, 115): 449, (419, 114): 450, (311, 115): 451, (110, 100): 452, (44, 91): 453, (450, 376): 454, (321, 380): 455, (32, 272): 456, (111, 100): 457, (97, 107): 458, (444, 108): 459, (309, 402): 460, (320, 104): 461, (99, 101): 462, (446, 315): 463, (420, 408): 464, (105, 108): 465, (267, 438): 466, (310, 437): 467, (266, 376): 468, (49, 51): 469, (460, 425): 470, (109, 256): 471, (262, 101): 472, (32, 103): 473, (50, 49): 474, (265, 285): 475, (111, 99): 476, (310, 116): 477, (105, 97): 478, (195, 162): 479, (118, 256): 480, (226, 130): 481, (481, 172): 482, (264, 263): 483, (297, 280): 484, (267, 108): 485, (50, 51): 486, (370, 403): 487, (344, 378): 488, (49, 56): 489, (278, 387): 490, (421, 101): 491, (345, 454): 492, (101, 101): 493, (105, 266): 494, (50, 52): 495, (471, 307): 496, (49, 50): 497, (264, 463): 498, (306, 295): 499, (32, 118): 500, (340, 336): 501, (267, 459): 502, (49, 55): 503, (50, 50): 504, (111, 103): 505, (119, 406): 506, (78, 379): 507, (306, 386): 508, (49, 52): 509, (298, 104): 510, (108, 100): 511, (93, 10): 512, (306, 263): 513, (97, 118): 514, (496, 266): 515, (97, 259): 516, (226, 128): 517, (360, 121): 518, (324, 468): 519, (482, 517): 520, (49, 49): 521, (335, 104): 522, (32, 101): 523, (97, 103): 524, (32, 266): 525, (111, 272): 526, (340, 104): 527, (97, 99): 528, (363, 110): 529, (74, 117): 530, (79, 391): 531, (102, 258): 532, (407, 272): 533, (49, 53): 534, (105, 101): 535, (108, 111): 536, (50, 54): 537, (50, 57): 538, (48, 48): 539, (32, 382): 540, (50, 53): 541, (50, 55): 542, (383, 101): 543, (466, 115): 544, (117, 100): 545, (278, 405): 546, (422, 404): 547, (84, 263): 548, (32, 355): 549, (116, 115): 550, (51, 48): 551, (290, 110): 552, (274, 443): 553, (290, 100): 554, (287, 260): 555, (274, 101): 556, (395, 472): 557, (259, 101): 558, (553, 295): 559, (297, 475): 560, (264, 112): 561, (34, 44): 562, (264, 386): 563, (117, 98): 564, (258, 107): 565, (115, 101): 566, (361, 114): 567, (540, 365): 568, (112, 112): 569, (258, 121): 570, (49, 54): 571, (274, 467): 572, (102, 102): 573, (363, 115): 574, (265, 101): 575, (116, 256): 576, (337, 114): 577, (109, 266): 578, (258, 101): 579, (267, 110): 580, (32, 479): 581, (401, 48): 582, (349, 262): 583, (485, 408): 584, (97, 272): 585, (434, 287): 586, (68, 394): 587, (336, 104): 588, (109, 121): 589, (50, 56): 590, (99, 99): 591, (520, 156): 592, (97, 98): 593, (337, 369): 594, (342, 338): 595, (269, 108): 596, (112, 104): 597, (105, 380): 598, (543, 111): 599, (276, 533): 600, (256, 116): 601, (331, 336): 602, (32, 121): 603, (320, 470): 604, (287, 101): 605, (256, 101): 606, (32, 36): 607, (105, 102): 608, (367, 101): 609, (101, 301): 610, (258, 511): 611, (83, 282): 612, (493, 107): 613, (105, 285): 614, (335, 121): 615, (354, 256): 616, (117, 110): 617, (324, 111): 618, (118, 598): 619, (349, 470): 620, (346, 522): 621, (105, 289): 622, (105, 112): 623, (258, 116): 624, (267, 515): 625, (347, 336): 626, (101, 290): 627, (116, 365): 628, (448, 83): 629, (105, 107): 630, (267, 115): 631, (357, 256): 632, (108, 289): 633, (422, 565): 634, (39, 292): 635, (118, 342): 636, (490, 101): 637, (461, 382): 638, (636, 101): 639, (309, 116): 640, (292, 91): 641, (113, 117): 642, (105, 122): 643, (530, 352): 644, (41, 10): 645, (445, 116): 646, (464, 115): 647, (101, 458): 648, (306, 117): 649, (105, 269): 650, (432, 626): 651, (354, 399): 652, (359, 286): 653, (528, 107): 654, (406, 307): 655, (455, 115): 656, (77, 475): 657, (256, 532): 658, (351, 256): 659, (333, 367): 660, (114, 336): 661, (367, 589): 662, (265, 107): 663, (51, 49): 664, (439, 56): 665, (588, 639): 666, (360, 310): 667, (105, 111): 668, (523, 120): 669, (32, 285): 670, (374, 101): 671, (269, 101): 672, (345, 258): 673, (309, 452): 674, (309, 115): 675, (270, 115): 676, (278, 104): 677, (490, 289): 678, (65, 416): 679, (260, 478): 680, (417, 599): 681, (117, 99): 682, (514, 101): 683, (435, 653): 684, (267, 301): 685, (344, 595): 686, (117, 269): 687, (355, 104): 688, (527, 614): 689, (307, 107): 690, (259, 110): 691, (346, 613): 692, (321, 111): 693, (318, 628): 694, (465, 109): 695, (114, 111): 696, (274, 389): 697, (97, 285): 698, (536, 98): 699, (344, 526): 700, (346, 611): 701, (321, 666): 702, (297, 99): 703, (320, 262): 704, (428, 597): 705, (506, 256): 706, (101, 103): 707, (288, 101): 708, (321, 397): 709, (261, 405): 710, (333, 287): 711, (567, 662): 712, (299, 101): 713, (314, 426): 714, (510, 116): 715, (333, 101): 716, (381, 262): 717, (101, 287): 718, (108, 413): 719, (117, 333): 720, (423, 410): 721, (449, 115): 722, (264, 104): 723, (266, 116): 724, (361, 117): 725, (65, 515): 726, (99, 108): 727, (101, 118): 728, (97, 112): 729, (508, 115): 730, (506, 381): 731, (266, 115): 732, (101, 369): 733, (530, 403): 734, (99, 289): 735, (410, 115): 736, (311, 358): 737, (32, 335): 738, (499, 347): 739, (306, 112): 740, (384, 661): 741, (266, 121): 742, (414, 467): 743, (291, 672): 744, (349, 288): 745, (733, 347): 746, (414, 310): 747, (278, 369): 748, (97, 445): 749, (377, 115): 750, (524, 101): 751, (412, 107): 752, (564, 108): 753, (111, 107): 754, (346, 104): 755, (381, 338): 756, (347, 121): 757, (337, 658): 758, (32, 263): 759, (119, 111): 760, (539, 48): 761, (97, 104): 762, (265, 105): 763, (266, 103): 764, (84, 86): 765, (32, 117): 766, (314, 298): 767, (298, 110): 768, (266, 107): 769, (510, 550): 770, (412, 100): 771, (340, 288): 772, (103, 104): 773, (340, 262): 774, (105, 385): 775, (65, 459): 776, (74, 468): 777, (278, 552): 778, (778, 413): 779, (651, 260): 780, (404, 719): 781, (422, 309): 782, (279, 256): 783, (383, 110): 784, (417, 756): 785, (338, 115): 786, (365, 115): 787, (259, 115): 788, (32, 38): 789, (332, 116): 790, (307, 101): 791, (103, 426): 792, (399, 101): 793, (631, 115): 794, (70, 454): 795, (101, 269): 796, (115, 111): 797, (365, 570): 798, (407, 477): 799, (97, 105): 800, (397, 110): 801, (99, 107): 802, (349, 655): 803, (101, 347): 804, (266, 462): 805, (320, 77): 806, (476, 107): 807, (114, 413): 808, (476, 269): 809, (104, 256): 810, (298, 263): 811, (811, 272): 812, (316, 480): 813, (363, 402): 814, (112, 290): 815, (98, 289): 816, (109, 377): 817, (112, 108): 818, (476, 105): 819, (348, 112): 820, (336, 115): 821, (283, 121): 822, (117, 335): 823, (331, 683): 824, (108, 117): 825, (121, 110): 826, (363, 116): 827, (784, 770): 828, (727, 545): 829, (603, 404): 830, (105, 279): 831, (419, 423): 832, (53, 48): 833, (356, 369): 834, (280, 115): 835, (270, 98): 836, (346, 342): 837, (83, 463): 838, (505, 705): 839, (121, 108): 840, (111, 98): 841, (278, 111): 842, (99, 601): 843, (262, 100): 844, (361, 699): 845, (673, 816): 846, (32, 347): 847, (461, 676): 848, (97, 383): 849, (794, 819): 850, (580, 110): 851, (775, 100): 852, (417, 763): 853, (366, 262): 854, (311, 591): 855, (297, 765): 856, (779, 493): 857, (335, 101): 858, (274, 260): 859, (697, 721): 860, (52, 48): 861, (289, 99): 862, (103, 101): 863, (306, 104): 864, (101, 121): 865, (473, 290): 866, (520, 157): 867, (270, 99): 868, (288, 259): 869, (266, 110): 870, (440, 101): 871, (806, 84): 872, (278, 114): 873, (101, 120): 874, (448, 110): 875, (45, 115): 876, (572, 115): 877, (32, 387): 878, (670, 382): 879, (296, 101): 880, (667, 609): 881, (269, 289): 882, (309, 110): 883, (32, 106): 884, (337, 108): 885, (428, 802): 886, (290, 462): 887, (871, 522): 888, (853, 822): 889, (77, 280): 890, (355, 99): 891, (420, 797): 892, (266, 478): 893, (373, 425): 894, (289, 112): 895, (283, 116): 896, (458, 101): 897, (355, 115): 898, (276, 695): 899, (114, 722): 900, (387, 101): 901, (494, 115): 902, (367, 260): 903, (256, 110): 904, (332, 829): 905, (264, 99): 906, (311, 98): 907, (314, 114): 908, (850, 410): 909, (601, 516): 910, (630, 101): 911, (97, 358): 912, (264, 295): 913, (194, 162): 914, (111, 412): 915, (823, 265): 916, (32, 377): 917, (276, 405): 918, (345, 781): 919, (752, 880): 920, (297, 828): 921, (331, 812): 922, (361, 711): 923, (267, 452): 924, (366, 111): 925, (354, 265): 926, (568, 115): 927, (52, 52): 928, (580, 103): 929, (287, 289): 930, (290, 115): 931, (87, 104): 932, (267, 116): 933, (32, 90): 934, (435, 380): 935, (32, 575): 936, (725, 341): 937, (937, 494): 938, (66, 67): 939, (482, 914): 940, (575, 256): 941, (577, 457): 942, (366, 799): 943, (332, 100): 944, (545, 668): 945, (738, 115): 946, (410, 269): 947, (356, 104): 948, (363, 452): 949, (276, 744): 950, (397, 256): 951, (366, 862): 952, (32, 404): 953, (759, 108): 954, (954, 112): 955, (333, 458): 956, (344, 579): 957, (324, 262): 958, (283, 115): 959, (583, 116): 960, (747, 101): 961, (306, 564): 962, (45, 112): 963, (73, 110): 964, (499, 256): 965, (102, 825): 966, (105, 120): 967, (499, 633): 968, (316, 815): 969, (261, 114): 970, (374, 291): 971, (353, 101): 972, (340, 406): 973, (51, 51): 974, (261, 760): 975, (283, 576): 976, (309, 773): 977, (409, 110): 978, (340, 606): 979, (384, 402): 980, (335, 269): 981, (97, 122): 982, (32, 291): 983, (556, 619): 984, (258, 115): 985, (339, 800): 986, (72, 397): 987, (356, 746): 988, (102, 852): 989, (346, 630): 990, (839, 121): 991, (353, 259): 992, (992, 413): 993, (473, 916): 994, (753, 307): 995, (384, 100): 996, (338, 269): 997, (351, 101): 998, (112, 256): 999}\n"
     ]
    }
   ],
   "source": [
    "b = RegexTokenizer()\n",
    "print(b.train(train_data, 1000))"
   ]
  },
  {
   "cell_type": "code",
   "execution_count": 66,
   "metadata": {},
   "outputs": [
    {
     "name": "stdout",
     "output_type": "stream",
     "text": [
      "Convert you BasicTokenizer into a RegexTokenizer, which takes a regex pattern and splits the text exactly as GPT-4 would. Process the parts separately as before, then concatenate the results. Retrain your tokenizer and compare the results before and after. You should see that you will now have no tokens that go across categories (numbers, letters, punctuation, more than one whitespace). Use the GPT-4 pattern\n"
     ]
    }
   ],
   "source": [
    "print(b.decode(b.encode(\"Convert you BasicTokenizer into a RegexTokenizer, which takes a regex pattern and splits the text exactly as GPT-4 would. Process the parts separately as before, then concatenate the results. Retrain your tokenizer and compare the results before and after. You should see that you will now have no tokens that go across categories (numbers, letters, punctuation, more than one whitespace). Use the GPT-4 pattern\")))"
   ]
  },
  {
   "cell_type": "code",
   "execution_count": 69,
   "metadata": {},
   "outputs": [],
   "source": [
    "# match this\n",
    "enc = tiktoken.get_encoding(\"cl100k_base\") # this is the GPT-4 tokenizer\n",
    "ids = enc.encode(\"hello world!!!? (안녕하세요!) lol123 😉\")\n",
    "text = enc.decode(ids) # get the same text back"
   ]
  },
  {
   "cell_type": "code",
   "execution_count": 74,
   "metadata": {},
   "outputs": [],
   "source": [
    "def bpe(mergeable_ranks, token, max_rank):\n",
    "    # helper function used in get_gpt4_merges() to reconstruct the merge forest\n",
    "    parts = [bytes([b]) for b in token]\n",
    "    while True:\n",
    "        min_idx = None\n",
    "        min_rank = None\n",
    "        for i, pair in enumerate(zip(parts[:-1], parts[1:])):\n",
    "            rank = mergeable_ranks.get(pair[0] + pair[1])\n",
    "            if rank is not None and (min_rank is None or rank < min_rank):\n",
    "                min_idx = i\n",
    "                min_rank = rank\n",
    "        if min_rank is None or (max_rank is not None and min_rank >= max_rank):\n",
    "            break\n",
    "        assert min_idx is not None\n",
    "        parts = parts[:min_idx] + [parts[min_idx] + parts[min_idx + 1]] + parts[min_idx + 2:]\n",
    "    return parts\n",
    "\n",
    "def recover_merges(mergeable_ranks):\n",
    "    # the `merges` are already the byte sequences in their merged state.\n",
    "    # so we have to recover the original pairings. We can do this by doing\n",
    "    # a small BPE training run on all the tokens, in their order.\n",
    "    # also see https://github.com/openai/tiktoken/issues/60\n",
    "    # also see https://github.com/karpathy/minbpe/issues/11#issuecomment-1950805306\n",
    "    merges = {}\n",
    "    for token, rank in mergeable_ranks.items():\n",
    "        if len(token) == 1:\n",
    "            continue # skip raw bytes\n",
    "        pair = tuple(bpe(mergeable_ranks, token, max_rank=rank))\n",
    "        assert len(pair) == 2\n",
    "        # recover the integer ranks of the pair\n",
    "        ix0 = mergeable_ranks[pair[0]]\n",
    "        ix1 = mergeable_ranks[pair[1]]\n",
    "        merges[(ix0, ix1)] = rank\n",
    "\n",
    "    return merges"
   ]
  },
  {
   "cell_type": "code",
   "execution_count": 90,
   "metadata": {},
   "outputs": [],
   "source": [
    "class GPT4Tokenizer(RegexTokenizer):\n",
    "    def __init__(self):\n",
    "        enc = tiktoken.get_encoding(\"cl100k_base\")\n",
    "        mergeable_ranks = enc._mergeable_ranks\n",
    "        self.merges = recover_merges(mergeable_ranks)\n",
    "            \n",
    "        vocab = {idx: bytes([idx]) for idx in range(256)}\n",
    "        for (p0, p1), idx in self.merges.items():\n",
    "            vocab[idx] = vocab[p0] + vocab[p1]\n",
    "        self.vocab = vocab\n",
    "        self.inv_vocab = {k: v for v, k in self.vocab.items()}\n",
    "        self.byte_shuffle = {i: mergeable_ranks[bytes([i])] for i in range(256)}\n",
    "        self.inverse_byte_shuffle = {v: k for k, v in self.byte_shuffle.items()}\n",
    "    \n",
    "    def encode_part(self, part):\n",
    "        shuffled_bytes = bytes(self.byte_shuffle[b] for b in part.encode('utf-8'))\n",
    "        ids = list(shuffled_bytes)\n",
    "        while len(ids) >= 2:  # for handling when just a single token is passed in\n",
    "            stats = get_stats(ids)\n",
    "            pair = min(stats, key=lambda p: self.merges.get(p, float(\"inf\")))  \n",
    "            # returns the index of the pair which has the least value in merges (in this case, 256)\n",
    "            # float(\"inf\") --> we do this because if we consider a pair not in merges dict, we set it to infinity so it won't ever get selected in min()\n",
    "            if pair not in self.merges:  # this means, there is nothing to merge\n",
    "                break\n",
    "            idx = self.merges[pair]\n",
    "            ids = merge(ids, pair, idx)\n",
    "        return ids\n",
    "\n",
    "    def encode(self, text):\n",
    "        parts = split_text(text)\n",
    "        encoded_parts = [self.encode_part(part) for part in parts]\n",
    "        return [token for part in encoded_parts for token in part]\n",
    "    \n",
    "    def train(self, text, vocab_size, verbose=False):\n",
    "        pass\n",
    "\n",
    "    def decode(self, ids):            \n",
    "        # given ids (list of integers), returns Python string\n",
    "        byte_string  = b\"\".join(self.vocab[idx] for idx in ids)  # b\"\".join --> way to concatenate bytes\n",
    "        unshuffled_bytes = bytes(self.inverse_byte_shuffle[b] for b in byte_string)\n",
    "        return unshuffled_bytes.decode('utf-8', errors='replace')"
   ]
  },
  {
   "cell_type": "code",
   "execution_count": 84,
   "metadata": {},
   "outputs": [
    {
     "name": "stdout",
     "output_type": "stream",
     "text": [
      "[31495, 230, 75265, 243, 92245, 62904, 233, 320, 15339, 304, 16526, 16715]\n",
      "True\n"
     ]
    }
   ],
   "source": [
    "enc = tiktoken.get_encoding(\"cl100k_base\") # GPT-4 tokenizer\n",
    "\n",
    "print(enc.encode(\"안녕하세요 👋 (hello in Korean!)\"))\n",
    "\n",
    "print(enc.decode(enc.encode(\"안녕하세요 👋 (hello in Korean!)\")) == \"안녕하세요 👋 (hello in Korean!)\")\n",
    "\n",
    "# match the above for your own tokenizer, and also implement a train() function"
   ]
  },
  {
   "cell_type": "code",
   "execution_count": 91,
   "metadata": {},
   "outputs": [
    {
     "name": "stdout",
     "output_type": "stream",
     "text": [
      "[31495, 230, 75265, 243, 92245, 62904, 233, 320, 15339, 304, 16526, 16715]\n",
      "True\n"
     ]
    }
   ],
   "source": [
    "enc1 = GPT4Tokenizer()\n",
    "\n",
    "print(enc1.encode(\"안녕하세요 👋 (hello in Korean!)\"))\n",
    "print(enc1.decode(enc1.encode(\"안녕하세요 👋 (hello in Korean!)\")) == \"안녕하세요 👋 (hello in Korean!)\")"
   ]
  },
  {
   "cell_type": "code",
   "execution_count": 92,
   "metadata": {},
   "outputs": [],
   "source": [
    "# --------------------------- End of exercise --------------------------- #"
   ]
  }
 ],
 "metadata": {
  "kernelspec": {
   "display_name": "Python 3 (ipykernel)",
   "language": "python",
   "name": "python3"
  },
  "language_info": {
   "codemirror_mode": {
    "name": "ipython",
    "version": 3
   },
   "file_extension": ".py",
   "mimetype": "text/x-python",
   "name": "python",
   "nbconvert_exporter": "python",
   "pygments_lexer": "ipython3",
   "version": "3.11.7"
  }
 },
 "nbformat": 4,
 "nbformat_minor": 4
}
