{
 "cells": [
  {
   "cell_type": "code",
   "execution_count": null,
   "metadata": {},
   "outputs": [],
   "source": [
    "# E01: Tune the hyperparameters of the training to beat my best validation loss of 2.2"
   ]
  },
  {
   "cell_type": "code",
   "execution_count": 2,
   "metadata": {},
   "outputs": [],
   "source": [
    "import torch\n",
    "import torch.nn.functional as F\n",
    "from torch.utils import data\n",
    "import matplotlib.pyplot as plt  # for making figures\n",
    "%matplotlib inline"
   ]
  },
  {
   "cell_type": "code",
   "execution_count": 3,
   "metadata": {},
   "outputs": [],
   "source": [
    "words = open('names.txt', 'r').read().splitlines()"
   ]
  },
  {
   "cell_type": "code",
   "execution_count": 20,
   "metadata": {},
   "outputs": [
    {
     "data": {
      "text/plain": [
       "['emma',\n",
       " 'olivia',\n",
       " 'ava',\n",
       " 'isabella',\n",
       " 'sophia',\n",
       " 'charlotte',\n",
       " 'mia',\n",
       " 'amelia',\n",
       " 'harper',\n",
       " 'evelyn']"
      ]
     },
     "execution_count": 20,
     "metadata": {},
     "output_type": "execute_result"
    }
   ],
   "source": [
    "words[:10]"
   ]
  },
  {
   "cell_type": "code",
   "execution_count": 4,
   "metadata": {},
   "outputs": [
    {
     "name": "stdout",
     "output_type": "stream",
     "text": [
      "{1: 'a', 2: 'b', 3: 'c', 4: 'd', 5: 'e', 6: 'f', 7: 'g', 8: 'h', 9: 'i', 10: 'j', 11: 'k', 12: 'l', 13: 'm', 14: 'n', 15: 'o', 16: 'p', 17: 'q', 18: 'r', 19: 's', 20: 't', 21: 'u', 22: 'v', 23: 'w', 24: 'x', 25: 'y', 26: 'z', 0: '.'}\n"
     ]
    }
   ],
   "source": [
    "# build the vocabulary of characters and mappings to/from integers\n",
    "\n",
    "chars = sorted(list(set(''.join(words))))\n",
    "stoi = {s:i+1 for i, s in enumerate(chars)}\n",
    "stoi['.'] = 0\n",
    "itos = {i:s for s, i in stoi.items()}\n",
    "print(itos)"
   ]
  },
  {
   "cell_type": "code",
   "execution_count": 5,
   "metadata": {},
   "outputs": [],
   "source": [
    "import random\n",
    "random.seed(42)\n",
    "random.shuffle(words)\n",
    "n1 = int(0.8*len(words))\n",
    "n2 = int(0.9*len(words))"
   ]
  },
  {
   "cell_type": "code",
   "execution_count": 6,
   "metadata": {},
   "outputs": [],
   "source": [
    "# tuning the model:\n",
    "\n",
    "block_size = 4  # context length: how many characters do we take to predict the next one?\n",
    "embedding_dim = 20\n",
    "layer_1_input = block_size * embedding_dim\n",
    "layer_2_neurons = 400\n",
    "batch_size = 64\n",
    "runs = 200000"
   ]
  },
  {
   "cell_type": "code",
   "execution_count": 7,
   "metadata": {},
   "outputs": [
    {
     "name": "stdout",
     "output_type": "stream",
     "text": [
      "torch.Size([182625, 4]) torch.Size([182625])\n",
      "torch.Size([22655, 4]) torch.Size([22655])\n",
      "torch.Size([22866, 4]) torch.Size([22866])\n"
     ]
    }
   ],
   "source": [
    "# building the dataset\n",
    "\n",
    "def build_dataset(words):\n",
    "    X, Y = [], []  # X is the array of the input characters, Y is the output for those input characters\n",
    "    \n",
    "    for w in words:\n",
    "        \n",
    "        # print(w)\n",
    "        context = [0] * block_size\n",
    "        for ch in w + '.':\n",
    "            ix = stoi[ch]\n",
    "            X.append(context)\n",
    "            Y.append(ix)\n",
    "            # print(''.join(itos[i] for i in context), '---->', ch)\n",
    "            context = context[1:] + [ix]  # crop and append for next character's context\n",
    "    \n",
    "    X = torch.tensor(X)\n",
    "    Y = torch.tensor(Y)\n",
    "    print(X.shape, Y.shape)\n",
    "    return X, Y\n",
    "\n",
    "Xtr, Ytr = build_dataset(words[:n1])\n",
    "Xdev, Ydev = build_dataset(words[n1:n2])\n",
    "Xte, Yte = build_dataset(words[n2:])"
   ]
  },
  {
   "cell_type": "code",
   "execution_count": 49,
   "metadata": {},
   "outputs": [
    {
     "data": {
      "text/plain": [
       "(torch.Size([182625, 4]), torch.Size([182625]))"
      ]
     },
     "execution_count": 49,
     "metadata": {},
     "output_type": "execute_result"
    }
   ],
   "source": [
    "# dataset\n",
    "Xtr.shape, Ytr.shape"
   ]
  },
  {
   "cell_type": "code",
   "execution_count": 50,
   "metadata": {},
   "outputs": [],
   "source": [
    "g = torch.Generator().manual_seed(2147483647)\n",
    "C = torch.randn((27, embedding_dim), generator=g)\n",
    "W1 = torch.randn((layer_1_input, layer_2_neurons), generator=g)   \n",
    "b1 = torch.randn((layer_2_neurons), generator=g)\n",
    "W2 = torch.randn((layer_2_neurons, 27), generator=g)\n",
    "b2 = torch.randn((27), generator=g)\n",
    "parameters = [C, W1, b1, W2, b2]"
   ]
  },
  {
   "cell_type": "code",
   "execution_count": 51,
   "metadata": {},
   "outputs": [
    {
     "data": {
      "text/plain": [
       "43767"
      ]
     },
     "execution_count": 51,
     "metadata": {},
     "output_type": "execute_result"
    }
   ],
   "source": [
    "for p in parameters:\n",
    "    p.requires_grad = True\n",
    "\n",
    "sum(p.nelement() for p in parameters)  # number of parameters in total"
   ]
  },
  {
   "cell_type": "code",
   "execution_count": 52,
   "metadata": {},
   "outputs": [],
   "source": [
    "lri = []\n",
    "lossi = []\n",
    "stepi = []"
   ]
  },
  {
   "cell_type": "code",
   "execution_count": 53,
   "metadata": {},
   "outputs": [],
   "source": [
    "for i in range(runs):\n",
    "\n",
    "    # minibatch construction\n",
    "    ix = torch.randint(0, Xtr.shape[0], (batch_size,))  \n",
    "    \n",
    "    # forward pass\n",
    "    emb = C[Xtr[ix]] \n",
    "    h = torch.tanh(emb.view(-1, layer_1_input) @ W1 + b1)  \n",
    "    logits = h @ W2 + b2  # (32, 27)\n",
    "    loss = F.cross_entropy(logits, Ytr[ix])  # does the older three steps in one and is more efficient \n",
    "    # print(loss.item())  # but this is only the loss for that many batch\n",
    "    \n",
    "    # backward pass\n",
    "    for p in parameters:\n",
    "        p.grad = None\n",
    "    loss.backward()\n",
    "    \n",
    "    # update\n",
    "    lr = 0.1 if i < 100000 else (0.01 if i < 150000 else 0.001)\n",
    "    for p in parameters:\n",
    "        p.data += -lr * p.grad\n",
    "\n",
    "    # track stats\n",
    "    # lri.append(lre[i])\n",
    "    stepi.append(i)\n",
    "    lossi.append(loss.log10().item())"
   ]
  },
  {
   "cell_type": "code",
   "execution_count": 54,
   "metadata": {},
   "outputs": [
    {
     "name": "stdout",
     "output_type": "stream",
     "text": [
      "2.090951681137085\n"
     ]
    }
   ],
   "source": [
    "print(loss.item())"
   ]
  },
  {
   "cell_type": "code",
   "execution_count": 55,
   "metadata": {},
   "outputs": [
    {
     "data": {
      "text/plain": [
       "tensor(2.0541, grad_fn=<NllLossBackward0>)"
      ]
     },
     "execution_count": 55,
     "metadata": {},
     "output_type": "execute_result"
    }
   ],
   "source": [
    "# train set loss\n",
    "# for evaluating the full loss\n",
    "\n",
    "emb = C[Xtr]  \n",
    "h = torch.tanh(emb.view(-1, layer_1_input) @ W1 + b1)  \n",
    "logits = h @ W2 + b2  \n",
    "loss = F.cross_entropy(logits, Ytr)\n",
    "loss"
   ]
  },
  {
   "cell_type": "code",
   "execution_count": 56,
   "metadata": {},
   "outputs": [
    {
     "data": {
      "text/plain": [
       "tensor(2.1452, grad_fn=<NllLossBackward0>)"
      ]
     },
     "execution_count": 56,
     "metadata": {},
     "output_type": "execute_result"
    }
   ],
   "source": [
    "# dev set\n",
    "\n",
    "emb = C[Xdev]\n",
    "h = torch.tanh(emb.view(-1, layer_1_input) @ W1 + b1)  # (32, 100)\n",
    "logits = h @ W2 + b2 \n",
    "loss = F.cross_entropy(logits, Ydev)\n",
    "loss\n",
    "\n",
    "# achieved dev set lower than target 2.17!!!"
   ]
  },
  {
   "cell_type": "code",
   "execution_count": 59,
   "metadata": {
    "scrolled": true
   },
   "outputs": [
    {
     "name": "stdout",
     "output_type": "stream",
     "text": [
      "mora.\n",
      "kmyanna.\n",
      "elme.\n",
      "hayla.\n",
      "rethan.\n",
      "endra.\n",
      "gradeem.\n",
      "selin.\n",
      "shivaelle.\n",
      "eliennanar.\n",
      "kayzion.\n",
      "kamin.\n",
      "shubergraimier.\n",
      "kindreelynn.\n",
      "nocaley.\n",
      "brende.\n",
      "ryyson.\n",
      "mehs.\n",
      "kayshy.\n",
      "kolda.\n"
     ]
    }
   ],
   "source": [
    "# sample from the model\n",
    "\n",
    "g = torch.Generator().manual_seed(2147483647 + 10)\n",
    "\n",
    "for _ in range(20):\n",
    "    out = []\n",
    "    context = [0] * block_size  # initialize with all '...'\n",
    "    while True:\n",
    "        emb = C[torch.tensor([context])]  # (1, block_size, d)\n",
    "        h = torch.tanh(emb.view(1, -1) @ W1 + b1)\n",
    "        logits = h @ W2 + b2\n",
    "        probs = F.softmax(logits, dim=1)\n",
    "        ix = torch.multinomial(probs, num_samples=1, generator=g).item()\n",
    "        context = context[1:] + [ix]\n",
    "        out.append(ix)\n",
    "        if ix == 0:\n",
    "            break\n",
    "\n",
    "    print(''.join(itos[i] for i in out))"
   ]
  },
  {
   "cell_type": "code",
   "execution_count": null,
   "metadata": {},
   "outputs": [],
   "source": [
    "# E02: I was not careful with the intialization of the network in this video. \n",
    "# (1) What is the loss you'd get if the predicted probabilities at initialization were perfectly uniform? What loss do we achieve? \n",
    "# (2) Can you tune the initialization to get a starting loss that is much more similar to (1)?\n",
    "\n",
    "\n",
    "# (1) if the probabilities at initialization were perfectly uniform, they would have an equal probability of 1/27 (for 26 letters and '.')\n",
    "# this would make the loss be: -(log(1/27)) = 3.29\n",
    "# while the loss we are currently getting at initialization is terrible: tensor(40.5127)\n",
    "# when we make the initialization values smaller by multiplying weights by 0.01, our new starting loss is: tensor(3.3002)\n",
    "\n",
    "# training the model with this new initialization gives us pretty good results!!\n",
    "# train set loss: 1.9742, dev set loss: 2.0467\n",
    "\n",
    "# to compare this with our previous training run with the bad initializations, which had\n",
    "# train set loss: 2.0541, dev set loss: 2.1452"
   ]
  },
  {
   "cell_type": "code",
   "execution_count": 26,
   "metadata": {},
   "outputs": [],
   "source": [
    "g = torch.Generator().manual_seed(2147483647)\n",
    "C = torch.randn((27, embedding_dim), generator=g) * 0.01\n",
    "W1 = torch.randn((layer_1_input, layer_2_neurons), generator=g) * 0.01\n",
    "b1 = torch.randn((layer_2_neurons), generator=g) * 0.01\n",
    "W2 = torch.randn((layer_2_neurons, 27), generator=g) * 0.01\n",
    "b2 = torch.randn((27), generator=g) * 0.01\n",
    "parameters = [C, W1, b1, W2, b2]"
   ]
  },
  {
   "cell_type": "code",
   "execution_count": 28,
   "metadata": {},
   "outputs": [
    {
     "data": {
      "text/plain": [
       "43767"
      ]
     },
     "execution_count": 28,
     "metadata": {},
     "output_type": "execute_result"
    }
   ],
   "source": [
    "for p in parameters:\n",
    "    p.requires_grad = True\n",
    "\n",
    "sum(p.nelement() for p in parameters)  # number of parameters in total"
   ]
  },
  {
   "cell_type": "code",
   "execution_count": 29,
   "metadata": {},
   "outputs": [],
   "source": [
    "lri = []\n",
    "lossi = []\n",
    "stepi = []"
   ]
  },
  {
   "cell_type": "code",
   "execution_count": 30,
   "metadata": {},
   "outputs": [],
   "source": [
    "for i in range(runs):\n",
    "\n",
    "    # minibatch construction\n",
    "    ix = torch.randint(0, Xtr.shape[0], (batch_size,))  \n",
    "    \n",
    "    # forward pass\n",
    "    emb = C[Xtr[ix]] \n",
    "    h = torch.tanh(emb.view(-1, layer_1_input) @ W1 + b1)  \n",
    "    logits = h @ W2 + b2  #\n",
    "    loss = F.cross_entropy(logits, Ytr[ix])  # does the older three steps in one and is more efficient \n",
    "    # print(loss.item())  # but this is only the loss for that many batch\n",
    "    \n",
    "    # backward pass\n",
    "    for p in parameters:\n",
    "        p.grad = None\n",
    "    loss.backward()\n",
    "    \n",
    "    # update\n",
    "    lr = 0.1 if i < 100000 else (0.01 if i < 150000 else 0.001)\n",
    "    for p in parameters:\n",
    "        p.data += -lr * p.grad\n",
    "\n",
    "    # track stats\n",
    "    # lri.append(lre[i])\n",
    "    stepi.append(i)\n",
    "    lossi.append(loss.log10().item())"
   ]
  },
  {
   "cell_type": "code",
   "execution_count": 31,
   "metadata": {},
   "outputs": [
    {
     "name": "stdout",
     "output_type": "stream",
     "text": [
      "2.073326349258423\n"
     ]
    }
   ],
   "source": [
    "print(loss.item())"
   ]
  },
  {
   "cell_type": "code",
   "execution_count": 32,
   "metadata": {},
   "outputs": [
    {
     "data": {
      "text/plain": [
       "tensor(1.9742, grad_fn=<NllLossBackward0>)"
      ]
     },
     "execution_count": 32,
     "metadata": {},
     "output_type": "execute_result"
    }
   ],
   "source": [
    "# train set loss\n",
    "# for evaluating the full loss\n",
    "\n",
    "emb = C[Xtr]  \n",
    "h = torch.tanh(emb.view(-1, layer_1_input) @ W1 + b1)  \n",
    "logits = h @ W2 + b2  \n",
    "loss = F.cross_entropy(logits, Ytr)\n",
    "loss"
   ]
  },
  {
   "cell_type": "code",
   "execution_count": 33,
   "metadata": {},
   "outputs": [
    {
     "data": {
      "text/plain": [
       "tensor(2.0467, grad_fn=<NllLossBackward0>)"
      ]
     },
     "execution_count": 33,
     "metadata": {},
     "output_type": "execute_result"
    }
   ],
   "source": [
    "# dev set\n",
    "\n",
    "emb = C[Xdev]\n",
    "h = torch.tanh(emb.view(-1, layer_1_input) @ W1 + b1)  # (32, 100)\n",
    "logits = h @ W2 + b2 \n",
    "loss = F.cross_entropy(logits, Ydev)\n",
    "loss"
   ]
  },
  {
   "cell_type": "code",
   "execution_count": 64,
   "metadata": {},
   "outputs": [],
   "source": [
    "# E03: Read the Bengio et al 2003 paper (link above), implement and try any idea from the paper. Did it work?\n",
    "# https://www.jmlr.org/papers/volume3/bengio03a/bengio03a.pdf\n",
    "\n",
    "# from the paper\n",
    "# \"In most experiments below, the neural network has one hidden layer beyond the word features\n",
    "# mapping, and optionally, direct connections from the word features to the output. Therefore there\n",
    "# are really two hidden layers: the shared word features layer C, which has no non-linearity (it would\n",
    "# not add anything useful), and the ordinary hyperbolic tangent hidden layer. More precisely, the\n",
    "# neural network computes the following function, with a softmax output layer, which guarantees\n",
    "# positive probabilities summing to 1\"\n",
    "\n",
    "# specifically this part \"and optionally, direct connections from the word features to the output\"\n",
    "# let's try to implement this\n",
    "\n",
    "# the implementation was successful, but there doesn't seem to be any notable improvement in the loss so far\n",
    "# if anything, it was slightly worse than our previous iteration\n",
    "# train set loss: 2.0566, dev set loss: 2.1021\n",
    "\n",
    "# but an explanation for why to keep the direct connection seems to be\n",
    "# direct connection can learn simpler, linear relationships\n",
    "# hidden layer can learn complex, non-linear relationships\n",
    "# it allows the model to capture both simple and complex relationships in the data"
   ]
  },
  {
   "cell_type": "code",
   "execution_count": 36,
   "metadata": {},
   "outputs": [],
   "source": [
    "g = torch.Generator().manual_seed(2147483647)\n",
    "C = torch.randn((27, embedding_dim), generator=g) * 0.01\n",
    "W1 = torch.randn((layer_1_input, layer_2_neurons), generator=g) * 0.01\n",
    "b1 = torch.randn((layer_2_neurons), generator=g) * 0.01\n",
    "W2 = torch.randn((layer_2_neurons, 27), generator=g) * 0.01\n",
    "b2 = torch.randn((27), generator=g) * 0.01\n",
    "W_direct = torch.randn((layer_1_input, 27), generator=g) * 0.01  # new weights\n",
    "parameters = [C, W1, b1, W2, b2, W_direct]"
   ]
  },
  {
   "cell_type": "code",
   "execution_count": 37,
   "metadata": {},
   "outputs": [
    {
     "data": {
      "text/plain": [
       "45927"
      ]
     },
     "execution_count": 37,
     "metadata": {},
     "output_type": "execute_result"
    }
   ],
   "source": [
    "for p in parameters:\n",
    "    p.requires_grad = True\n",
    "\n",
    "sum(p.nelement() for p in parameters)  # number of parameters in total"
   ]
  },
  {
   "cell_type": "code",
   "execution_count": 38,
   "metadata": {},
   "outputs": [],
   "source": [
    "lri = []\n",
    "lossi = []\n",
    "stepi = []"
   ]
  },
  {
   "cell_type": "code",
   "execution_count": 59,
   "metadata": {},
   "outputs": [],
   "source": [
    "for i in range(runs):\n",
    "\n",
    "    # minibatch construction\n",
    "    ix = torch.randint(0, Xtr.shape[0], (batch_size,))  \n",
    "    \n",
    "    # forward pass\n",
    "    emb = C[Xtr[ix]] \n",
    "    h = torch.tanh(emb.view(-1, layer_1_input) @ W1 + b1) \n",
    "    direct_out = emb.view(-1, layer_1_input) @ W_direct  # direct output layer\n",
    "    logits = h @ W2 + b2 + direct_out\n",
    "    loss = F.cross_entropy(logits, Ytr[ix])  # does the older three steps in one and is more efficient \n",
    "    # print(loss.item())  # but this is only the loss for that many batch\n",
    "    \n",
    "    # backward pass\n",
    "    for p in parameters:\n",
    "        p.grad = None\n",
    "    loss.backward()\n",
    "    \n",
    "    # update\n",
    "    lr = 0.1 if i < 100000 else (0.01 if i < 150000 else 0.001)\n",
    "    for p in parameters:\n",
    "        p.data += -lr * p.grad\n",
    "\n",
    "    # track stats\n",
    "    # lri.append(lre[i])\n",
    "    stepi.append(i)\n",
    "    lossi.append(loss.log10().item())"
   ]
  },
  {
   "cell_type": "code",
   "execution_count": 60,
   "metadata": {},
   "outputs": [
    {
     "name": "stdout",
     "output_type": "stream",
     "text": [
      "1.921289086341858\n"
     ]
    }
   ],
   "source": [
    "print(loss.item())"
   ]
  },
  {
   "cell_type": "code",
   "execution_count": 61,
   "metadata": {},
   "outputs": [
    {
     "data": {
      "text/plain": [
       "tensor(2.0566, grad_fn=<NllLossBackward0>)"
      ]
     },
     "execution_count": 61,
     "metadata": {},
     "output_type": "execute_result"
    }
   ],
   "source": [
    "# train set loss\n",
    "# for evaluating the full loss\n",
    "\n",
    "emb = C[Xtr]  \n",
    "h = torch.tanh(emb.view(-1, layer_1_input) @ W1 + b1)  \n",
    "direct_out = emb.view(-1, layer_1_input) @ W_direct  # direct output layer\n",
    "logits = h @ W2 + b2 + direct_out \n",
    "loss = F.cross_entropy(logits, Ytr)\n",
    "loss"
   ]
  },
  {
   "cell_type": "code",
   "execution_count": 62,
   "metadata": {},
   "outputs": [
    {
     "data": {
      "text/plain": [
       "tensor(2.1021, grad_fn=<NllLossBackward0>)"
      ]
     },
     "execution_count": 62,
     "metadata": {},
     "output_type": "execute_result"
    }
   ],
   "source": [
    "# dev set\n",
    "\n",
    "emb = C[Xdev]\n",
    "h = torch.tanh(emb.view(-1, layer_1_input) @ W1 + b1) \n",
    "direct_out = emb.view(-1, layer_1_input) @ W_direct  # direct output layer\n",
    "logits = h @ W2 + b2 + direct_out\n",
    "loss = F.cross_entropy(logits, Ydev)\n",
    "loss"
   ]
  },
  {
   "cell_type": "code",
   "execution_count": 63,
   "metadata": {},
   "outputs": [
    {
     "name": "stdout",
     "output_type": "stream",
     "text": [
      "moha.\n",
      "kayan.\n",
      "seeven.\n",
      "hayla.\n",
      "rethan.\n",
      "endra.\n",
      "graderyd.\n",
      "elith.\n",
      "miloparete.\n",
      "suquanara.\n",
      "mykioh.\n",
      "kalin.\n",
      "shub.\n",
      "rishiriel.\n",
      "kindreelle.\n",
      "jeber.\n",
      "four.\n",
      "kaven.\n",
      "kyleu.\n",
      "meha.\n"
     ]
    }
   ],
   "source": [
    "# sample from the model\n",
    "\n",
    "g = torch.Generator().manual_seed(2147483647 + 10)\n",
    "\n",
    "for _ in range(20):\n",
    "    out = []\n",
    "    context = [0] * block_size  # initialize with all '...'\n",
    "    while True:\n",
    "        emb = C[torch.tensor([context])]  # (1, block_size, d)\n",
    "        h = torch.tanh(emb.view(1, -1) @ W1 + b1)\n",
    "        direct_out = emb.view(-1, layer_1_input) @ W_direct  # direct output layer\n",
    "        logits = h @ W2 + b2 + direct_out\n",
    "        probs = F.softmax(logits, dim=1)\n",
    "        ix = torch.multinomial(probs, num_samples=1, generator=g).item()\n",
    "        context = context[1:] + [ix]\n",
    "        out.append(ix)\n",
    "        if ix == 0:\n",
    "            break\n",
    "\n",
    "    print(''.join(itos[i] for i in out))"
   ]
  }
 ],
 "metadata": {
  "kernelspec": {
   "display_name": "Python 3 (ipykernel)",
   "language": "python",
   "name": "python3"
  },
  "language_info": {
   "codemirror_mode": {
    "name": "ipython",
    "version": 3
   },
   "file_extension": ".py",
   "mimetype": "text/x-python",
   "name": "python",
   "nbconvert_exporter": "python",
   "pygments_lexer": "ipython3",
   "version": "3.11.7"
  }
 },
 "nbformat": 4,
 "nbformat_minor": 4
}
