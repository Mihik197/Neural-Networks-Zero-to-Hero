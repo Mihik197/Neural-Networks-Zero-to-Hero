{
 "cells": [
  {
   "cell_type": "code",
   "execution_count": null,
   "metadata": {},
   "outputs": [],
   "source": [
    "# Exercises:\n",
    "# - E01: I did not get around to seeing what happens when you initialize all weights and biases to zero. \n",
    "# Try this and train the neural net. \n",
    "# You might think either that \n",
    "# 1) the network trains just fine or \n",
    "# 2) the network doesn't train at all, but actually it is \n",
    "# 3) the network trains but only partially, and achieves a pretty bad final performance. \n",
    "# Inspect the gradients and activations to figure out what is happening and why the network is only partially training, \n",
    "# and what part is being trained exactly.\n",
    "\n",
    "# we achieve terrible loss when initializing all weights and biases to zero\n",
    "# train 2.822659730911255\n",
    "# val 2.8209733963012695\n",
    "# it seems the network is training only partially, i.e. only for the weights that would have come out to be 0 in normal training\n",
    "# the rest all values are pushed to 0 anyways, which causes the bad performance\n",
    "# all the activations and preactivations are 0, so the only learning taking place is for the weights whose values would have come out to be 0 in normal training\n",
    "\n",
    "# another reason could be: all the values in the weights will be the same\n",
    "# so it will be optimized in the same gradient direction because all the elements in the vector are same\n",
    "# all elements in the vector are optimized to one direction, and it means the vector is learning only one feature\n",
    "# Since the feature vectors are initialized to 0, \n",
    "# they produce an output vector of 0s which when backpropagated, produce the same gradients making all features the same feature and thus, \n",
    "# the model is not trained on the different features of the input\n",
    "\n",
    "# on checking the parameters, it seems b2 has non zero values somehow through training\n",
    "# which might be what the network has learnt\n",
    "# it seems to be because the bais b2 will have the gradients from the loss function. The loss function has gradient"
   ]
  },
  {
   "cell_type": "code",
   "execution_count": 1,
   "metadata": {},
   "outputs": [],
   "source": [
    "import torch\n",
    "import torch.nn.functional as F\n",
    "import matplotlib.pyplot as plt  # for making figures\n",
    "%matplotlib inline"
   ]
  },
  {
   "cell_type": "code",
   "execution_count": 2,
   "metadata": {},
   "outputs": [
    {
     "data": {
      "text/plain": [
       "['emma',\n",
       " 'olivia',\n",
       " 'ava',\n",
       " 'isabella',\n",
       " 'sophia',\n",
       " 'charlotte',\n",
       " 'mia',\n",
       " 'amelia',\n",
       " 'harper',\n",
       " 'evelyn']"
      ]
     },
     "execution_count": 2,
     "metadata": {},
     "output_type": "execute_result"
    }
   ],
   "source": [
    "words = open('names.txt', 'r').read().splitlines()\n",
    "words[:10]"
   ]
  },
  {
   "cell_type": "code",
   "execution_count": 3,
   "metadata": {},
   "outputs": [
    {
     "name": "stdout",
     "output_type": "stream",
     "text": [
      "{1: 'a', 2: 'b', 3: 'c', 4: 'd', 5: 'e', 6: 'f', 7: 'g', 8: 'h', 9: 'i', 10: 'j', 11: 'k', 12: 'l', 13: 'm', 14: 'n', 15: 'o', 16: 'p', 17: 'q', 18: 'r', 19: 's', 20: 't', 21: 'u', 22: 'v', 23: 'w', 24: 'x', 25: 'y', 26: 'z', 0: '.'}\n",
      "27\n"
     ]
    }
   ],
   "source": [
    "# build the vocabulary of characters and mappings to/from integers\n",
    "\n",
    "chars = sorted(list(set(''.join(words))))\n",
    "stoi = {s:i+1 for i, s in enumerate(chars)}\n",
    "stoi['.'] = 0\n",
    "itos = {i:s for s, i in stoi.items()}\n",
    "vocab_size = len(itos)\n",
    "print(itos)\n",
    "print(vocab_size)"
   ]
  },
  {
   "cell_type": "code",
   "execution_count": 4,
   "metadata": {},
   "outputs": [],
   "source": [
    "import random\n",
    "random.seed(42)\n",
    "random.shuffle(words)\n",
    "n1 = int(0.8*len(words))\n",
    "n2 = int(0.9*len(words))"
   ]
  },
  {
   "cell_type": "code",
   "execution_count": 5,
   "metadata": {},
   "outputs": [],
   "source": [
    "# tuning the model:\n",
    "\n",
    "block_size = 3  # context length: how many characters do we take to predict the next one?\n",
    "n_embd = 10  # number of dimensions in embedding\n",
    "layer_1_input = block_size * n_embd\n",
    "n_hidden = 200\n",
    "batch_size = 32\n",
    "max_steps = 200000"
   ]
  },
  {
   "cell_type": "code",
   "execution_count": 6,
   "metadata": {},
   "outputs": [
    {
     "name": "stdout",
     "output_type": "stream",
     "text": [
      "torch.Size([182625, 3]) torch.Size([182625])\n",
      "torch.Size([22655, 3]) torch.Size([22655])\n",
      "torch.Size([22866, 3]) torch.Size([22866])\n"
     ]
    }
   ],
   "source": [
    "# building the dataset\n",
    "\n",
    "def build_dataset(words):\n",
    "    X, Y = [], []  # X is the array of the input characters, Y is the output for those input characters\n",
    "    \n",
    "    for w in words:\n",
    "        \n",
    "        # print(w)\n",
    "        context = [0] * block_size\n",
    "        for ch in w + '.':\n",
    "            ix = stoi[ch]\n",
    "            X.append(context)\n",
    "            Y.append(ix)\n",
    "            # print(''.join(itos[i] for i in context), '---->', ch)\n",
    "            context = context[1:] + [ix]  # crop and append for next character's context\n",
    "    \n",
    "    X = torch.tensor(X)\n",
    "    Y = torch.tensor(Y)\n",
    "    print(X.shape, Y.shape)\n",
    "    return X, Y\n",
    "\n",
    "Xtr, Ytr = build_dataset(words[:n1])\n",
    "Xdev, Ydev = build_dataset(words[n1:n2])\n",
    "Xte, Yte = build_dataset(words[n2:])"
   ]
  },
  {
   "cell_type": "code",
   "execution_count": 30,
   "metadata": {},
   "outputs": [
    {
     "data": {
      "text/plain": [
       "11897"
      ]
     },
     "execution_count": 30,
     "metadata": {},
     "output_type": "execute_result"
    }
   ],
   "source": [
    "g = torch.Generator().manual_seed(2147483647)\n",
    "C = torch.randn((vocab_size, n_embd), generator=g)\n",
    "W1 = torch.randn((layer_1_input, n_hidden), generator=g) * 0\n",
    "b1 = torch.randn((n_hidden), generator=g) * 0\n",
    "W2 = torch.randn((n_hidden, 27), generator=g) * 0\n",
    "b2 = torch.randn((vocab_size), generator=g) * 0  # biases can be 0 as well at initialization, 0.01 can help with some entropy and optimization\n",
    "\n",
    "# bngain = torch.ones((1, n_hidden))  # allows the network to scale each normalized feature\n",
    "# bnbias = torch.zeros((1, n_hidden))  # allows the network to shift each normalized feature\n",
    "\n",
    "# # this is so we don't have to separately calculate these after training\n",
    "# bnmean_running = torch.zeros((1, n_hidden))  # at initialization, because we've initialized them to unit gaussian, mean will be roughly 0 and S.D. 1\n",
    "# bnstd_running = torch.ones((1, n_hidden))\n",
    "\n",
    "parameters = [C, W1, b1, W2, b2]\n",
    "\n",
    "for p in parameters:\n",
    "    p.requires_grad = True\n",
    "\n",
    "sum(p.nelement() for p in parameters)  # number of parameters in total"
   ]
  },
  {
   "cell_type": "code",
   "execution_count": 31,
   "metadata": {},
   "outputs": [],
   "source": [
    "lri = []\n",
    "lossi = []\n",
    "stepi = []"
   ]
  },
  {
   "cell_type": "code",
   "execution_count": 40,
   "metadata": {},
   "outputs": [
    {
     "name": "stdout",
     "output_type": "stream",
     "text": [
      "      0/ 200000:2.7481\n"
     ]
    }
   ],
   "source": [
    "for i in range(max_steps):\n",
    "\n",
    "    # minibatch construction\n",
    "    ix = torch.randint(0, Xtr.shape[0], (batch_size,), generator=g)\n",
    "    Xb, Yb = Xtr[ix], Ytr[ix]  # batch X, Y\n",
    "    \n",
    "    # forward pass\n",
    "    emb = C[Xb]  # embed characters to vectors\n",
    "    embcat = emb.view(emb.shape[0], -1)  # concatenate the vectors\n",
    "    # Linear layer\n",
    "    hpreact = embcat @ W1  + b1  # hidden layer pre-activation\n",
    "    # Non-linearity\n",
    "    h = torch.tanh(hpreact)  # hidden layer\n",
    "    logits = h @ W2 + b2  # output layer \n",
    "    loss = F.cross_entropy(logits, Yb)  # loss function \n",
    "    \n",
    "    # backward pass\n",
    "    for p in parameters:\n",
    "        p.grad = None\n",
    "    loss.backward()\n",
    "    \n",
    "    # update\n",
    "    lr = 0.1 if i < 100000 else 0.01  # step learning rate decay\n",
    "    for p in parameters:\n",
    "        p.data += -lr * p.grad\n",
    "\n",
    "    # track stats\n",
    "    if i % 10000 == 0:\n",
    "        print(f'{i:7d}/{max_steps:7d}:{loss.item():.4f}')\n",
    "    stepi.append(i)\n",
    "    lossi.append(loss.log10().item())\n",
    "\n",
    "    #break"
   ]
  },
  {
   "cell_type": "code",
   "execution_count": 41,
   "metadata": {},
   "outputs": [
    {
     "data": {
      "image/png": "[encoded data removed]",
      "text/plain": [
       "<Figure size 640x480 with 1 Axes>"
      ]
     },
     "metadata": {},
     "output_type": "display_data"
    }
   ],
   "source": [
    "plt.hist(h.view(-1).tolist(), 50);"
   ]
  },
  {
   "cell_type": "code",
   "execution_count": 42,
   "metadata": {},
   "outputs": [
    {
     "data": {
      "image/png": "[encoded data removed]",
      "text/plain": [
       "<Figure size 640x480 with 1 Axes>"
      ]
     },
     "metadata": {},
     "output_type": "display_data"
    }
   ],
   "source": [
    "# to see why that is the case, we need to see the h pre-activations\n",
    "plt.hist(hpreact.view(-1).tolist(), 50);"
   ]
  },
  {
   "cell_type": "code",
   "execution_count": 44,
   "metadata": {},
   "outputs": [
    {
     "data": {
      "text/plain": [
       "<matplotlib.image.AxesImage at 0x2ce99cc3d90>"
      ]
     },
     "execution_count": 44,
     "metadata": {},
     "output_type": "execute_result"
    },
    {
     "data": {
      "image/png": "[encoded data removed]",
      "text/plain": [
       "<Figure size 2000x1000 with 1 Axes>"
      ]
     },
     "metadata": {},
     "output_type": "display_data"
    }
   ],
   "source": [
    "# we are trying to see how often values in h are in this 'bad' region of -1 or 1\n",
    "plt.figure(figsize=(20,10))\n",
    "plt.imshow(h.abs() > 0.1, cmap='gray', interpolation='nearest')\n",
    "# h.abs() > 0.99  --> boolean ---> white if true, black if false"
   ]
  },
  {
   "cell_type": "code",
   "execution_count": 33,
   "metadata": {},
   "outputs": [
    {
     "data": {
      "text/plain": [
       "[<matplotlib.lines.Line2D at 0x2ce8ecfe650>]"
      ]
     },
     "execution_count": 33,
     "metadata": {},
     "output_type": "execute_result"
    },
    {
     "data": {
      "image/png": "[encoded data removed]",
      "text/plain": [
       "<Figure size 640x480 with 1 Axes>"
      ]
     },
     "metadata": {},
     "output_type": "display_data"
    }
   ],
   "source": [
    "plt.plot(lossi)"
   ]
  },
  {
   "cell_type": "code",
   "execution_count": 50,
   "metadata": {},
   "outputs": [
    {
     "name": "stdout",
     "output_type": "stream",
     "text": [
      "train 2.822659730911255\n",
      "val 2.820974349975586\n"
     ]
    }
   ],
   "source": [
    "#this decorator disables gradient tracking\n",
    "@torch.no_grad()  # pytorch will not keep track of gradients of tensors here, as they are not needed. To improve efficiency\n",
    "def split_loss(split):\n",
    "    x, y = {\n",
    "        'train': (Xtr, Ytr),\n",
    "        'val': (Xdev, Ydev),\n",
    "        'test': (Xte, Yte),\n",
    "    }[split]\n",
    "\n",
    "    emb = C[x]  # (N, block_size, n_embd)\n",
    "    embcat = emb.view(emb.shape[0], -1)  # concat into (N, block_size * n_embd)\n",
    "    hpreact = embcat @ W1 + b1  # hidden layer pre-activation\n",
    "    # hpreact = (bngain * (hpreact - hpreact.mean(0, keepdim=True)) / hpreact.std(0, keepdim=True)) + bnbias  # batch normalization layer\n",
    "    # hpreact = (bngain * (hpreact - bnmean_running) / bnstd_running) + bnbias\n",
    "    h = torch.tanh(hpreact)  # (N, n_hidden)\n",
    "    logits = h @ W2 + b2  # (N, vocab_size)\n",
    "    loss = F.cross_entropy(logits, y)\n",
    "    print(split, loss.item())\n",
    "\n",
    "split_loss('train')\n",
    "split_loss('val')"
   ]
  },
  {
   "cell_type": "code",
   "execution_count": 35,
   "metadata": {},
   "outputs": [
    {
     "name": "stdout",
     "output_type": "stream",
     "text": [
      "ernaaimyaahreelmnd.\n",
      "ryal.\n",
      "rethrsjejdrleg.\n",
      "adeeedieliihemy.\n",
      "realeieiseananarneatzimhlkaa.\n",
      "n.\n",
      "sadbvrgahimies.\n",
      ".\n",
      "n.\n",
      "jr.\n",
      "eelklxnteuoanu.\n",
      "amnedar.\n",
      "yihle.\n",
      "ehs.\n",
      "laajaysknyaa.\n",
      "hia.\n",
      "nalyaisun.\n",
      "zajelveuren.\n",
      ".\n",
      ".\n"
     ]
    }
   ],
   "source": [
    "# sample from the model\n",
    "g = torch.Generator().manual_seed(2147483647 + 10)\n",
    "\n",
    "for _ in range(20):\n",
    "    \n",
    "    out = []\n",
    "    context = [0] * block_size  # initialize with all '...'\n",
    "    while True:\n",
    "        # forward pass the neural net\n",
    "        emb = C[torch.tensor([context])]  # (1, block_size, n_embd)\n",
    "        h = torch.tanh(emb.view(1, -1) @ W1 + b1)\n",
    "        logits = h @ W2 + b2\n",
    "        probs = F.softmax(logits, dim=1)\n",
    "\n",
    "        # sample from the distribution\n",
    "        ix = torch.multinomial(probs, num_samples=1, generator=g).item()\n",
    "\n",
    "        # shift the context window and track the samples\n",
    "        context = context[1:] + [ix]\n",
    "        out.append(ix)\n",
    "\n",
    "        # if we sample '.' token, break\n",
    "        if ix == 0:\n",
    "            break\n",
    "\n",
    "    print(''.join(itos[i] for i in out))  # decode and print generated word"
   ]
  },
  {
   "cell_type": "code",
   "execution_count": null,
   "metadata": {},
   "outputs": [],
   "source": [
    "# - E02: BatchNorm, unlike other normalization layers like LayerNorm/GroupNorm etc. has the big advantage that after training, \n",
    "# the batchnorm gamma/beta can be \"folded into\" the weights of the preceeding Linear layers, \n",
    "# effectively erasing the need to forward it at test time. \n",
    "# Set up a small 3-layer MLP with batchnorms, train the network, then \"fold\" the batchnorm gamma/beta into the preceeding Linear layer's W,b by creating a new W2, b2 and erasing the batch norm. \n",
    "# Verify that this gives the same forward pass during inference. i.e. we see that the batchnorm is there just for stabilizing the training, \n",
    "# and can be thrown out after training is done! pretty cool.\n",
    "\n",
    "# on conducting the experiment:\n",
    "# after training\n",
    "# train 2.400607109069824\n",
    "# val 2.3986570835113525\n",
    "\n",
    "# after folding in the batchnorm layer into the linear ones:\n",
    "# train 2.400607109069824\n",
    "# val 2.3986566066741943\n",
    "# thus we have verified that this gives the same forward pass during inference"
   ]
  },
  {
   "cell_type": "code",
   "execution_count": 80,
   "metadata": {},
   "outputs": [],
   "source": [
    "# tuning the model:\n",
    "\n",
    "block_size = 3  # context length: how many characters do we take to predict the next one?\n",
    "n_embd = 10  # number of dimensions in embedding\n",
    "layer_1_input = block_size * n_embd\n",
    "n_hidden = 100\n",
    "batch_size = 32\n",
    "max_steps = 200000"
   ]
  },
  {
   "cell_type": "code",
   "execution_count": 101,
   "metadata": {},
   "outputs": [],
   "source": [
    "class Linear:\n",
    "\n",
    "    def __init__(self, fan_in, fan_out, bias=True):\n",
    "        self.weight = torch.randn((fan_in, fan_out), generator=g) / fan_in**0.5  # make initialization uniform\n",
    "        self.bias = torch.randn(fan_out) if bias else None\n",
    "\n",
    "    def __call__(self, x):  # __call__ allows an instance of a class to be called and used as a function by defining the function body\n",
    "        self.out = x @ self.weight\n",
    "        if self.bias is not None:\n",
    "            self.out += self.bias\n",
    "        return self.out\n",
    "\n",
    "    def parameters(self):\n",
    "        return [self.weight] + ([] if self.bias is None else [self.bias])\n",
    "\n",
    "\n",
    "class BatchNorm1d:\n",
    "\n",
    "    def __init__(self, dim, eps=1e-5, momentum=0.1):\n",
    "        self.eps = eps\n",
    "        self.momentum = momentum\n",
    "        self.training = True  # this is for if we are training or using it on our dev set for evaluation or testing\n",
    "        \n",
    "        # parameters (trained with backprop)\n",
    "        self.gamma = torch.ones(dim)  # this is like bngain\n",
    "        self.beta = torch.zeros(dim)  # like bnbias\n",
    "        \n",
    "        # buffers (trained with a running 'momentum update')\n",
    "        self.running_mean = torch.zeros(dim)\n",
    "        self.running_var = torch.ones(dim)\n",
    "\n",
    "    def __call__(self, x):\n",
    "        # calculate the forward pass\n",
    "        if self.training:\n",
    "            xmean = x.mean(0, keepdim=True)  # batch mean\n",
    "            xvar = x.var(0, keepdim=True)  # batch variance\n",
    "        else:  # during inference, we are using the running mean and running variance\n",
    "            xmean = self.running_mean\n",
    "            xvar = self.running_var\n",
    "        xhat = (x - xmean) / torch.sqrt(xvar + self.eps)  # normalize to unit variance\n",
    "        self.out = self.gamma * xhat + self.beta\n",
    "        # update the buffers\n",
    "        if self.training:\n",
    "            with torch.no_grad():\n",
    "                self.running_mean = (1 - self.momentum) * self.running_mean + self.momentum * xmean\n",
    "                self.running_var = (1 - self.momentum) * self.running_var + self.momentum * xvar\n",
    "        return self.out\n",
    "\n",
    "    def parameters(self):\n",
    "        return [self.gamma, self.beta]\n",
    "\n",
    "\n",
    "class Tanh:\n",
    "    def __call__(self, x):\n",
    "        self.out = torch.tanh(x)\n",
    "        return self.out\n",
    "\n",
    "    def parameters(self):\n",
    "        return []"
   ]
  },
  {
   "cell_type": "code",
   "execution_count": 110,
   "metadata": {},
   "outputs": [
    {
     "name": "stdout",
     "output_type": "stream",
     "text": [
      "16597\n"
     ]
    }
   ],
   "source": [
    "n_embd = 10  # dimensionality of the character embedding vectors\n",
    "n_hidden = 100  # number of neurons in the hidden layer of the MLP\n",
    "g = torch.Generator().manual_seed(2147483647)  # for reproducibility\n",
    "\n",
    "C = torch.randn((vocab_size, n_embd), generator=g)\n",
    "layers = [\n",
    "    Linear(n_embd * block_size, n_hidden), BatchNorm1d(n_hidden), Tanh(),\n",
    "    Linear(           n_hidden, n_hidden), BatchNorm1d(n_hidden), Tanh(),\n",
    "    Linear(           n_hidden, vocab_size),\n",
    "]\n",
    "\n",
    "with torch.no_grad():\n",
    "    # last layer: make less confident\n",
    "    layers[-1].weight *= 0.1\n",
    "    \n",
    "parameters = [C] + [p for layer in layers for p in layer.parameters()]\n",
    "print(sum(p.nelement() for p in parameters))  # number of parameters in total\n",
    "\n",
    "for p in parameters:\n",
    "    p.requires_grad = True"
   ]
  },
  {
   "cell_type": "code",
   "execution_count": 111,
   "metadata": {},
   "outputs": [
    {
     "name": "stdout",
     "output_type": "stream",
     "text": [
      "      0/ 200000: 3.8268\n"
     ]
    }
   ],
   "source": [
    "# training\n",
    "\n",
    "max_steps = 200000\n",
    "batch_size = 32\n",
    "lossi = []\n",
    "ud = []  # the ratio of how big are the updates to the data compared to the data itself\n",
    "\n",
    "for i in range(max_steps):\n",
    "\n",
    "    # minibatch construction\n",
    "    ix = torch.randint(0, Xtr.shape[0], (batch_size,), generator=g)\n",
    "    Xb, Yb = Xtr[ix], Ytr[ix]  # batch X, Y\n",
    "\n",
    "    # forward pass\n",
    "    emb = C[Xb]  # embed the characters into vectors\n",
    "    x = emb.view(emb.shape[0], -1)  # concatenate the vectors\n",
    "    \n",
    "    for layer in layers:\n",
    "        x = layer(x)\n",
    "    \n",
    "    loss = F.cross_entropy(x, Yb)  # loss function\n",
    "\n",
    "    # backward pass\n",
    "    for layer in layers:\n",
    "        layer.out.retain_grad()  # so that we can plot them later     # AFTER_DEBUG: would take out retain_graph\n",
    "    \n",
    "    for p in parameters:\n",
    "        p.grad = None\n",
    "    loss.backward()\n",
    "\n",
    "    # update\n",
    "    lr = 0.1 if i < 100000 else 0.01  # step learning rate decay\n",
    "    for p in parameters:\n",
    "        p.data += -lr * p.grad\n",
    "\n",
    "    # track stats\n",
    "    if i % 10000 == 0:  # print every once in a while\n",
    "        print(f'{i:7d}/{max_steps:7d}: {loss.item():.4f}')\n",
    "    lossi.append(loss.log10().item())\n",
    "    with torch.no_grad():\n",
    "        ud.append([(lr*p.grad.std() / p.data.std()).log10().item() for p in parameters])\n",
    "\n",
    "    if i >= 1000:\n",
    "        break  # AFTER_DEBUG: would take out obv"
   ]
  },
  {
   "cell_type": "code",
   "execution_count": 112,
   "metadata": {},
   "outputs": [
    {
     "name": "stdout",
     "output_type": "stream",
     "text": [
      "train 2.400607109069824\n",
      "val 2.3986570835113525\n"
     ]
    }
   ],
   "source": [
    "#this decorator disables gradient tracking\n",
    "@torch.no_grad()  # pytorch will not keep track of gradients of tensors here, as they are not needed. To improve efficiency\n",
    "def split_loss(split):\n",
    "    x, y = {\n",
    "        'train': (Xtr, Ytr),\n",
    "        'val': (Xdev, Ydev),\n",
    "        'test': (Xte, Yte),\n",
    "    }[split]\n",
    "\n",
    "    emb = C[x]  # (N, block_size, n_embd)\n",
    "    x = emb.view(emb.shape[0], -1)  # concat into (N, block_size * n_embd)\n",
    "\n",
    "    for layer in layers:\n",
    "        x = layer(x)\n",
    "    \n",
    "    loss = F.cross_entropy(x, y)\n",
    "    print(split, loss.item())\n",
    "\n",
    "split_loss('train')\n",
    "split_loss('val')"
   ]
  },
  {
   "cell_type": "code",
   "execution_count": null,
   "metadata": {},
   "outputs": [],
   "source": [
    "# by folding in to the batchnorm's gamma/beta into the preceeding Linear layer's W,b\n",
    "# what is meant by it is: turn those two separate operations which require two layers into an operation done in one layer\n",
    "# so that the matrix multiplication, and normalization by multiplying beta and adding gamma happen in one layer\n",
    "# so we don't need a separate batchnorm layer\n",
    "\n",
    "# how we would go about doing this mathematically: (found online)\n",
    "# note that we are not using bias along with our weights in this case though"
   ]
  },
  {
   "attachments": {
    "2681b23f-ecec-4c2b-ab9d-07b871a8e6a0.png": {
     "image/png": "[encoded data removed]"
    }
   },
   "cell_type": "markdown",
   "metadata": {},
   "source": [
    "![image.png](attachment:2681b23f-ecec-4c2b-ab9d-07b871a8e6a0.png)"
   ]
  },
  {
   "cell_type": "code",
   "execution_count": 116,
   "metadata": {},
   "outputs": [],
   "source": [
    "# folding\n",
    "\n",
    "# we're not doing any training here, just modifying the weights. Tracking gradients would be unnecessary\n",
    "with torch.no_grad():\n",
    "    for i, batchnorm in enumerate(layers):\n",
    "        if isinstance(batchnorm, BatchNorm1d):\n",
    "            linear = layers[i-1]\n",
    "\n",
    "            factor = batchnorm.gamma / torch.sqrt(batchnorm.running_var + batchnorm.eps)\n",
    "\n",
    "            linear.weight = factor * linear.weight\n",
    "            if linear.bias is not None:\n",
    "                linear.bias = factor * (linear.bias - batchnorm.running_mean) + batchnorm.beta"
   ]
  },
  {
   "cell_type": "code",
   "execution_count": 117,
   "metadata": {},
   "outputs": [
    {
     "name": "stdout",
     "output_type": "stream",
     "text": [
      "train 2.400606632232666\n",
      "val 2.3986566066741943\n"
     ]
    }
   ],
   "source": [
    "split_loss('train')\n",
    "split_loss('val')"
   ]
  }
 ],
 "metadata": {
  "kernelspec": {
   "display_name": "Python 3 (ipykernel)",
   "language": "python",
   "name": "python3"
  },
  "language_info": {
   "codemirror_mode": {
    "name": "ipython",
    "version": 3
   },
   "file_extension": ".py",
   "mimetype": "text/x-python",
   "name": "python",
   "nbconvert_exporter": "python",
   "pygments_lexer": "ipython3",
   "version": "3.11.7"
  }
 },
 "nbformat": 4,
 "nbformat_minor": 4
}
