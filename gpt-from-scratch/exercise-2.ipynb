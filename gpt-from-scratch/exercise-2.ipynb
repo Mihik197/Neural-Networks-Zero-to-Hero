{
 "cells": [
  {
   "cell_type": "code",
   "execution_count": 16,
   "metadata": {},
   "outputs": [],
   "source": [
    "# unsuccessfull attempt at exercise 2\n",
    "\n",
    "import random\n",
    "import torch\n",
    "import torch.nn as nn\n",
    "from torch.utils.data import DataLoader, Dataset\n",
    "from torch.nn import functional as F"
   ]
  },
  {
   "cell_type": "code",
   "execution_count": 9,
   "metadata": {},
   "outputs": [],
   "source": [
    "def generate_addition_problem():\n",
    "    a = random.randint(0, 999)\n",
    "    b = random.randint(0, 999)\n",
    "    c = a + b\n",
    "    problem = f'{a}+{b}='\n",
    "    solution = str(c)[::-1]\n",
    "    # we reverse the solution (e.g., \"579\" becomes \"975\") to simulate right-to-left addition as typical in manual addition\n",
    "    return problem, solution\n",
    "\n",
    "def create_dataset(size):\n",
    "    data = []\n",
    "    for _ in range(size):\n",
    "        problem, solution = generate_addition_problem()\n",
    "        data.append((problem, solution))\n",
    "    return data\n",
    "\n",
    "text = create_dataset(10000)"
   ]
  },
  {
   "cell_type": "code",
   "execution_count": 14,
   "metadata": {},
   "outputs": [],
   "source": [
    "vocab = '0123456789+='\n",
    "vocab_size = len(vocab)\n",
    "\n",
    "stoi = {ch:i for i, ch in enumerate(vocab)}\n",
    "itos = {i:ch for i, ch in enumerate(vocab)}\n",
    "\n",
    "encode = lambda s: [stoi[c] for c in s]  # encoder: takes a string, returns a list of integers\n",
    "decode = lambda l: ''.join([itos[i] for i in l])  # decoder: takes a list of integers, returns a string"
   ]
  },
  {
   "cell_type": "code",
   "execution_count": 15,
   "metadata": {},
   "outputs": [],
   "source": [
    "def generate_batch(batch_size):\n",
    "    problems, solutions = [], []\n",
    "    for _ in range(batch_size):\n",
    "        a = random.randint(0, 999)\n",
    "        b = random.randint(0, 999)\n",
    "        c = a + b\n",
    "        problem = f'{a}+{b}='\n",
    "        solution = str(c)[::-1]\n",
    "        problems.append(problem)\n",
    "        solutions.append(solution)\n",
    "    return problems, solutions        "
   ]
  },
  {
   "cell_type": "code",
   "execution_count": 22,
   "metadata": {},
   "outputs": [],
   "source": [
    "class GPTAddition(nn.Module):\n",
    "    def __init__(self, vocab_size, d_model, nhead, num_layers):\n",
    "        super().__init__()\n",
    "        self.embedding = nn.Embedding(vocab_size, d_model)\n",
    "        self.positional_encoding = nn.Parameter(torch.zeros(1, 100, d_model))  # Max sequence length of 100\n",
    "        self.transformer = nn.Transformer(d_model, nhead, num_layers, num_layers, d_model*4, batch_first=True)\n",
    "        self.fc_out = nn.Linear(d_model, vocab_size)\n",
    "\n",
    "    def forward(self, x):\n",
    "        x = self.embedding(x) + self.positional_encoding[:, :x.size(1), :]\n",
    "        x = self.transformer(x, x)\n",
    "        return self.fc_out(x)"
   ]
  },
  {
   "cell_type": "code",
   "execution_count": 34,
   "metadata": {},
   "outputs": [],
   "source": [
    "# batch_size = 64\n",
    "# optimizer = torch.optim.AdamW(m.parameters(), lr=1e-3)\n",
    "# max_iters = 1000\n",
    "\n",
    "model = GPTAddition(vocab_size, d_model=256, nhead=8, num_layers=6)\n",
    "optimizer = torch.optim.Adam(model.parameters())\n",
    "train(model, optimizer, max_iters=1000, batch_size=64)"
   ]
  },
  {
   "cell_type": "code",
   "execution_count": 32,
   "metadata": {},
   "outputs": [],
   "source": [
    "def train(model, optimizer, max_iters, batch_size):\n",
    "    for iter in range(max_iters):\n",
    "        total_loss = 0\n",
    "        for _ in range(100):  # 100 batches per epoch\n",
    "            problems, solutions = generate_batch(batch_size)\n",
    " \n",
    "            x = torch.tensor([encode(p) for p in problems], dtype=torch.long)\n",
    "            y = torch.tensor([encode(s) for s in solutions], dtype=torch.long)\n",
    "    \n",
    "            # create target mask\n",
    "            target_mask = torch.ones_like(x) * -1  # -1 is used as a placeholder to indicate positions that should be ignored by the loss function during training\n",
    "            for i, problem in enumerate(problems):\n",
    "                target_mask[i, len(problem):] = y[i, : len(y[i])]\n",
    "    \n",
    "            y_pred = model(x)\n",
    "            loss = F.cross_entropy(y_pred.view(-1, tokenizer.vocab_size), target_mask.view(-1), ignore_index=-1)\n",
    "    \n",
    "            optimizer.zero_grad()\n",
    "            loss.backward()\n",
    "            optimizer.step()\n",
    "            total_loss += loss.item()\n",
    "    \n",
    "        print(f\"Epoch {iter+1}/{max_iters}, Loss: {total_loss/100}\")\n",
    "    \n",
    "    torch.save(model.state_dict(), 'gpt_addition_model.pth')"
   ]
  }
 ],
 "metadata": {
  "kernelspec": {
   "display_name": "Python 3 (ipykernel)",
   "language": "python",
   "name": "python3"
  },
  "language_info": {
   "codemirror_mode": {
    "name": "ipython",
    "version": 3
   },
   "file_extension": ".py",
   "mimetype": "text/x-python",
   "name": "python",
   "nbconvert_exporter": "python",
   "pygments_lexer": "ipython3",
   "version": "3.11.7"
  }
 },
 "nbformat": 4,
 "nbformat_minor": 4
}
